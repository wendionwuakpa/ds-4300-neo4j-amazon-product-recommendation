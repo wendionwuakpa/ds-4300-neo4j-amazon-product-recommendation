{
 "cells": [
  {
   "cell_type": "markdown",
   "id": "ca1c932a",
   "metadata": {},
   "source": [
    "##  Consumer Oriented Amazon Product Recommendation Engine"
   ]
  },
  {
   "cell_type": "code",
   "execution_count": 1,
   "id": "d45d014c",
   "metadata": {},
   "outputs": [],
   "source": [
    "import pandas as pd\n",
    "import numpy as np\n",
    "from neo4j import GraphDatabase\n",
    "import csv"
   ]
  },
  {
   "cell_type": "code",
   "execution_count": 2,
   "id": "4c3be56c",
   "metadata": {},
   "outputs": [],
   "source": [
    "#Read from the csv stored in same directory\n",
    "df = pd.read_csv('amazon.csv')"
   ]
  },
  {
   "cell_type": "markdown",
   "id": "8b740183",
   "metadata": {},
   "source": [
    "### Data Cleaning\n",
    "- Limit the dataset to 1000 entries for faster processing\n",
    "- Convert necessary string column types like price, discount_price to float\n",
    "- Convert rating_count column to only include integers \n",
    "- Drop unneeded columns\n",
    "- Assign categorical value to general_cat column of dataframe\n",
    "- Convert non-dollar currencies to dollar values\n",
    "- Limit the number of words in each Amazon product name to 20\n",
    "- Intorduce a more general 'general_cat' that can be used by user to enter their preferences"
   ]
  },
  {
   "cell_type": "code",
   "execution_count": 3,
   "id": "5af19123",
   "metadata": {},
   "outputs": [],
   "source": [
    "#Remove non-integer values from the rating count\n",
    "df = df[df['rating_count'] != '1+H9280443']"
   ]
  },
  {
   "cell_type": "code",
   "execution_count": 4,
   "id": "6df54064",
   "metadata": {},
   "outputs": [],
   "source": [
    "#strip the product name to first 20 characters \n",
    "df['product_name'] = df['product_name'].str.split().str[:20].str.join(' ')"
   ]
  },
  {
   "cell_type": "code",
   "execution_count": 5,
   "id": "d61ebd32",
   "metadata": {},
   "outputs": [],
   "source": [
    "#add a more general category \n",
    "df['general_cat'] = df['category'].str.split('|', n=2).str[1]"
   ]
  },
  {
   "cell_type": "code",
   "execution_count": 6,
   "id": "f42e96e1",
   "metadata": {},
   "outputs": [],
   "source": [
    "#add new column to assign numbers to categorical data using encoding\n",
    "from sklearn.preprocessing import LabelEncoder \n",
    "\n",
    "# instance of LabelEncoder\n",
    "le = LabelEncoder()\n",
    "\n",
    "# fit and transform the categorical column to numerical values\n",
    "df['category_numerical'] = le.fit_transform(df['general_cat'])"
   ]
  },
  {
   "cell_type": "code",
   "execution_count": 7,
   "id": "8cd5e798",
   "metadata": {},
   "outputs": [],
   "source": [
    "#save the updates to the new csv\n",
    "df.to_csv('amazon.csv')"
   ]
  },
  {
   "cell_type": "code",
   "execution_count": 8,
   "id": "5fcc43eb",
   "metadata": {},
   "outputs": [],
   "source": [
    "# Establish a connection to Neo4j database\n",
    "uri = \"bolt://localhost:7687\"\n",
    "username = \"neo4j\"\n",
    "password = \"password\"\n",
    "driver = GraphDatabase.driver(uri, auth=(username, password)) "
   ]
  },
  {
   "cell_type": "markdown",
   "id": "ff4037b1",
   "metadata": {},
   "source": [
    "### Product Node Creation\n",
    "This is used to create the nodes used in neo4j, the node properties used are: product_name, product_id, price, rating, category, discount_percentage, review_title, general_cat, image_link, rating_count, and category_number\n",
    "\n",
    "- product_id - Product ID\n",
    "- product_name - Name of the Product\n",
    "- category - Category of the Product\n",
    "- general_cat - More general category grouping from one of the twenty buckets.\n",
    "- discounted_price - Discounted Price of the Product\n",
    "- price - Dollar value of the Price of the Product\n",
    "- discount_percentage - Percentage of Discount for the Product\n",
    "- rating - Rating of the Product from (1 to 5)\n",
    "- rating_count - Number of people who voted for the Amazon rating\n",
    "- review_title - Short review\n",
    "- img_link - Image Link of the Product"
   ]
  },
  {
   "cell_type": "code",
   "execution_count": 9,
   "id": "a60ee629",
   "metadata": {},
   "outputs": [],
   "source": [
    "# Create a product node in Neo4j\n",
    "def create_product(tx, product):\n",
    "    #Cypher query\n",
    "    query = \"\"\"\n",
    "    CREATE (p:Product {product_name: $product_name, product_id : $product_id, price: $price, rating: $rating, \n",
    "    category: $category, discount_percentage: $discount_percentage, \n",
    "    review_title: $review_title, discounted_price: $discounted_price, \n",
    "    general_cat : $general_cat, img_link : $img_link,\n",
    "    rating_count : $rating_count,\n",
    "    category_numerical : $category_numerical})\n",
    "    \"\"\"\n",
    "    tx.run(query, product_name=product['product_name'], \n",
    "           product_id = product['product_id'], \n",
    "           price=product['price'], \n",
    "           rating=product['rating'], \n",
    "           rating_count = product['rating_count'],\n",
    "           category=product['category'], \n",
    "           discount_percentage=product['discount_percentage'],\n",
    "           general_cat = product['general_cat'],\n",
    "           review_title=product['review_title'], \n",
    "           discounted_price=product['discounted_price'], \n",
    "           img_link = product['img_link'],\n",
    "           category_numerical = product['category_numerical']\n",
    "          )\n"
   ]
  },
  {
   "cell_type": "code",
   "execution_count": 10,
   "id": "211cf349",
   "metadata": {},
   "outputs": [],
   "source": [
    "# read the Amazon product data from CSV file\n",
    "def read_product_data_from_csv(file_path):\n",
    "    products = []\n",
    "    with open(file_path, newline='') as csvfile:\n",
    "        reader = csv.DictReader(csvfile)\n",
    "        for row in reader:\n",
    "            #Intialize a Product referenceing the columns\n",
    "            product = {\n",
    "                'product_name': row['product_name'],\n",
    "                'price': float(row['price']),\n",
    "                'rating': float(row['rating']),\n",
    "                'category': row['category'],\n",
    "                'discount_percentage': float(row['discount_percentage']),\n",
    "                'review_title': row['review_title'],\n",
    "                'discounted_price': float(row['discounted_price']),\n",
    "                'general_cat': row['general_cat'],\n",
    "                'product_id': row['product_id'],\n",
    "                'img_link': row['img_link'],\n",
    "                'rating_count': int(row['rating_count']),\n",
    "                'category_numerical' : int(row['category_numerical'])\n",
    "            }\n",
    "            products.append(product)\n",
    "    return products"
   ]
  },
  {
   "cell_type": "code",
   "execution_count": 11,
   "id": "bfd2e500",
   "metadata": {},
   "outputs": [],
   "source": [
    "# Amazon CSV file path\n",
    "csv_file = 'amazon.csv'\n",
    "\n",
    "# Call create product nodes in Neo4j to make the nodes\n",
    "with driver.session() as session:\n",
    "    products = read_product_data_from_csv(csv_file)\n",
    "    for product in products:\n",
    "        session.execute_write(create_product, product)"
   ]
  },
  {
   "cell_type": "markdown",
   "id": "e763be00",
   "metadata": {},
   "source": [
    "### Edge creation using Jaccard Distance\n",
    "Egdes between two Nodes are determined on certain criteria made using certain Node properties; product category, product price, product rating, and product discount percentage "
   ]
  },
  {
   "cell_type": "code",
   "execution_count": 12,
   "id": "f560419d",
   "metadata": {},
   "outputs": [],
   "source": [
    "# Create an edge between two products in Neo4j\n",
    "def create_edge(tx, product1, product2):\n",
    "    query = \"\"\"   \n",
    "    MATCH (p1:Product {product_name: $product_name_1})\n",
    "    MATCH (p2:Product {product_name: $product_name_2})\n",
    "    WHERE p1 <> p2\n",
    "    WITH p1, p2,\n",
    "    gds.similarity.jaccard([p1.price, p1.product_rating, p1.categorical_numerical, \n",
    "    p1.discount_percentage, p1.num_rating], \n",
    "    [p2.price, p2.product_rating, p2.categorical_numerical, p2.discount_percentage, p2.num_rating]) \n",
    "    AS jaccard\n",
    "    CREATE (p1)-[:SIMILAR {distance: jaccard}]->(p2)\n",
    "    \n",
    "    \"\"\"\n",
    "    tx.run(query, product_name_1=product1['product_name'], product_name_2=product2['product_name'])"
   ]
  },
  {
   "cell_type": "markdown",
   "id": "67aed9c1",
   "metadata": {},
   "source": []
  },
  {
   "cell_type": "code",
   "execution_count": 13,
   "id": "1acdfad1",
   "metadata": {},
   "outputs": [],
   "source": [
    "with driver.session() as session:        \n",
    "    # Create edges between products based on criteria\n",
    "    for i in range(len(products)):\n",
    "        for j in range(i + 1, len(products)):\n",
    "            product1 = products[i]\n",
    "            product2 = products[j]\n",
    "\n",
    "            # Check criteria for creating edge\n",
    "            if (product1['category'] == product2['category'] and\n",
    "                    (product1['category_numerical'] == product2['category_numerical']) and\n",
    "                    abs(product1['price'] - product2['price']) <= 10 and\n",
    "                    product1['rating'] == product2['rating'] and\n",
    "                    abs(product1['discount_percentage'] - product2['discount_percentage']) <= 0.1):\n",
    "                session.execute_write(create_edge, product1, product2)\n"
   ]
  },
  {
   "cell_type": "markdown",
   "id": "3fc5efd3",
   "metadata": {},
   "source": [
    "### Utilizing User's Favorite Products for Recommendations \n",
    "Our engine works by providing recommendation based on products the User has liked in the past. The User can select their favorite products and also indicate their preferences for price. The engine will take these factors into account and then provide 5 product recommendations based with prices and similarity scores."
   ]
  },
  {
   "cell_type": "markdown",
   "id": "c9d6a1e3",
   "metadata": {},
   "source": [
    "### Product Categories: \n",
    "\n",
    "- 0: Accessories\n",
    "- 1: Accessories&Peripherals\n",
    "- 2: Cameras&Photography\n",
    "- 3: Components\n",
    "- 4: CraftMaterials\n",
    "- 5: ExternalDevices&DataStorage\n",
    "- 6: GeneralPurposeBatteries&BatteryChargers\n",
    "- 7: Headphones,Earbuds&Accessories\n",
    "- 8: Heating,Cooling&AirQuality\n",
    "- 9: HomeAudio\n",
    "- 10: HomeTheater,TV&Video\n",
    "- 11: Laptops\n",
    "- 12: Mobiles&Accessories\n",
    "- 13: Monitors\n",
    "- 14: NetworkingDevices\n",
    "- 15: PowerAccessories\n",
    "- 16: Printers,Inks&Accessories\n",
    "- 17: Tablets\n",
    "- 18: WearableTechnology"
   ]
  },
  {
   "cell_type": "code",
   "execution_count": 14,
   "id": "0bdae5c6",
   "metadata": {},
   "outputs": [],
   "source": [
    "cat_num ={\n",
    "    0: 'Accessories',\n",
    "    1: 'Accessories&Peripherals',\n",
    "    2: 'Cameras&Photography',\n",
    "    3: 'Components',\n",
    "    4: 'CraftMaterials',\n",
    "    5: 'ExternalDevices&DataStorage',\n",
    "    6: 'GeneralPurposeBatteries&BatteryChargers',\n",
    "    7: 'Headphones,Earbuds&Accessories',\n",
    "    8: 'Heating,Cooling&AirQuality',\n",
    "    9: 'HomeAudio',\n",
    "    10: 'HomeTheater,TV&Video',\n",
    "    11: 'Laptops',\n",
    "    12: 'Mobiles&Accessories',\n",
    "    13: 'Monitors',\n",
    "    14: 'NetworkingDevices',\n",
    "    15: 'PowerAccessories',\n",
    "    16: 'Printers,Inks&Accessories',\n",
    "    17: 'Tablets',\n",
    "    18: 'WearableTechnology'\n",
    "}"
   ]
  },
  {
   "cell_type": "markdown",
   "id": "d0a2832a",
   "metadata": {},
   "source": [
    "# Welcome to the Amazon Product Recommender"
   ]
  },
  {
   "cell_type": "markdown",
   "id": "c88398dc",
   "metadata": {},
   "source": [
    "##### Enter your Preferences and select Favorite Products to feed to Recommendation Algorithm "
   ]
  },
  {
   "cell_type": "code",
   "execution_count": 15,
   "id": "f738b4d2",
   "metadata": {},
   "outputs": [
    {
     "name": "stdout",
     "output_type": "stream",
     "text": [
      "Welcome to the Amazon Product Recommender! \n",
      "For the questions, please enter only integers\n",
      "From the list above of Product Categories, What type of product are you interested in? 2\n",
      "Good choice. You selected Cameras&Photography !\n",
      "In order for the engine to understand your needs better... \n",
      " In Cameras&Photography category of products, what is your maximum price?\n",
      "What is the maximum price you are willing to pay? 20\n",
      "\n",
      " Here are 5 random products in the Cameras&Photography category: \n",
      "\n",
      "1: Gizga Essentials Professional 3-in-1 Cleaning Kit for Camera, Lens, Binocular, - https://www.amazon.in/Essentials-Gz-Ck-101-Professional-Micro-Fiber-Antibacterial/dp/B01IBRHE3E/ref=sr_1_144?qid=1672903001&s=computers&sr=1-144\n",
      "2: Fujifilm Instax Mini Single Pack 10 Sheets Instant Film for - https://www.amazon.in/Fujifilm-Instax-Instant-Fuji-Cameras/dp/B00R1P3B4O/ref=sr_1_129?qid=1672903001&s=computers&sr=1-129\n",
      "3: DIGITEK® (DTR-200MT) (18 CM) Portable & Flexible Mini Tripod with - https://www.amazon.in/DIGITEK-Portable-Flexible-Compact-Operating/dp/B08B6XWQ1C/ref=sr_1_269?qid=1672903008&s=computers&sr=1-269\n",
      "4: SLOVIC® Tripod Mount Adapter| Tripod Mobile Holder|Tripod Phone Mount(Made in - https://www.amazon.in/SLOVIC%C2%AE-Adapter-Smartphone-Clipper-Pictures/dp/B07RZZ1QSW/ref=sr_1_421?qid=1672903016&s=computers&sr=1-421\n",
      "5: DIGITEK® (DTR 260 GT) Gorilla Tripod/Mini 33 cm (13 Inch) - https://www.amazon.in/DIGITEK%C2%AE-DTR-260-GT-Flexible/dp/B08LPJZSSW/ref=sr_1_59?qid=1672902997&s=computers&sr=1-59\n",
      "\n",
      " Enter the number of your favorite product (1-5): 1\n",
      "\n",
      " Enter the number of your favorite product (1-5): 3\n",
      "\n",
      " Thanks for letting me know. Your favorite products are: \n",
      " Gizga Essentials Professional 3-in-1 Cleaning Kit for Camera, Lens, Binocular, and \n",
      " DIGITEK® (DTR-200MT) (18 CM) Portable & Flexible Mini Tripod with\n",
      "\n",
      " This will be factored in my recommendations! \n"
     ]
    }
   ],
   "source": [
    "print(\"Welcome to the Amazon Product Recommender! \")\n",
    "print(\"For the questions, please enter only integers\")\n",
    "\n",
    "#Validations for category number \n",
    "while True:\n",
    "    input_category = input(\"From the list above of Product Categories, What type of product are you interested in? \")\n",
    "    try:\n",
    "        input_category_num = int(input_category)\n",
    "        if input_category_num < 0 or input_category_num > 18:\n",
    "            print(\"Product category must be between 0 to 18 inclusive. Please try again.\")\n",
    "        else:\n",
    "            break\n",
    "    except ValueError:\n",
    "        print(\"Product category must be a positive integer. Please try again.\")\n",
    "\n",
    "#convert the category num to the specified category\n",
    "input_cat = cat_num.get(input_category_num)\n",
    "\n",
    "#print to user, their selection\n",
    "print(\"Good choice. You selected\", input_cat, \"!\")\n",
    "\n",
    "# Get the encoded value of the user-specified category\n",
    "category = input_cat\n",
    "input_category_encoded = le.transform([category])[0]\n",
    "\n",
    "import random\n",
    "import pandas as pd\n",
    "import random\n",
    "\n",
    "def select_favorite_products(product_category):\n",
    "    \n",
    "    df = pd.read_csv('amazon.csv') # Read the csv\n",
    "    \n",
    "    # Filter the DataFrame to only include products with the specified category\n",
    "    category_df = df[df['general_cat'] == product_category]\n",
    "    \n",
    "    # Instructions \n",
    "    print(\"In order for the engine to understand your needs better... \\n In\", product_category, \"category of products, what is your maximum price?\")\n",
    "    \n",
    "    # Ask the user for the maximum price they are willing to pay\n",
    "    while True:\n",
    "        max_price_str = input(\"What is the maximum price you are willing to pay? \")\n",
    "        try:\n",
    "            max_price = int(max_price_str)\n",
    "            if max_price <= 0:\n",
    "                print(\"Maximum price must be a positive integer. Please try again.\")\n",
    "            else:\n",
    "                break\n",
    "        except ValueError:\n",
    "            print(\"Maximum price must be a positive integer. Please try again.\")\n",
    "    \n",
    "    # Filter the DataFrame to only include products that are less than or equal to the max price\n",
    "    category_df = category_df[category_df['price'] <= max_price]\n",
    "    \n",
    "    # Select 5 random products from the filtered DataFrame\n",
    "    random_products = random.sample(list(category_df[['product_name', 'product_link']].values.tolist()), 5)\n",
    "    \n",
    "    # Print out the list of random products for the user to choose from\n",
    "    print(\"\\n Here are 5 random products in the\", product_category, \"category: \\n\")\n",
    "    for i, (product_name, product_link) in enumerate(random_products):\n",
    "        print(f\"{i+1}: {product_name} - {product_link}\")\n",
    "    \n",
    "    # Ask the user to pick their 2 favorite products by entering integers\n",
    "    favorite_indices = []\n",
    "    while len(favorite_indices) < 2:\n",
    "        try: \n",
    "            favorite_index = int(input(\"\\n Enter the number of your favorite product (1-5): \"))\n",
    "            if favorite_index < 1 or favorite_index > 5:\n",
    "                print(\"Invalid input. Please enter a number between 1 and 5.\")\n",
    "            elif favorite_index in favorite_indices:\n",
    "                print(\"You've already selected that product. Please choose a different one.\")\n",
    "            else:\n",
    "                favorite_indices.append(favorite_index)\n",
    "        except ValueError:\n",
    "            print(\"Invalid input. Please enter a number between 1 and 5.\")\n",
    "            \n",
    "    \n",
    "    # Get the names and links of the user's favorite products\n",
    "    favorite_products = [(random_products[i-1][0], random_products[i-1][1]) for i in favorite_indices]\n",
    "    \n",
    "    # Return the names and links of the user's favorite products as a list of tuples\n",
    "    return favorite_products\n",
    "\n",
    "# find users favorite products\n",
    "favorite_products = select_favorite_products(input_cat)\n",
    "print(\"\\n Thanks for letting me know. Your favorite products are: \\n\", favorite_products[0][0], \"and \\n\", favorite_products[1][0])\n",
    "print(\"\\n This will be factored in my recommendations! \")"
   ]
  },
  {
   "cell_type": "code",
   "execution_count": 44,
   "id": "e9488738",
   "metadata": {},
   "outputs": [
    {
     "name": "stdout",
     "output_type": "stream",
     "text": [
      "['Gizga Essentials Professional 3-in-1 Cleaning Kit for Camera, Lens, Binocular,', 'DIGITEK® (DTR-200MT) (18 CM) Portable & Flexible Mini Tripod with']\n"
     ]
    }
   ],
   "source": [
    "product_name = []\n",
    "for name, url in favorite_products:\n",
    "    product_name.append(name)\n",
    "print(product_name)"
   ]
  },
  {
   "cell_type": "markdown",
   "id": "b7d4b450",
   "metadata": {},
   "source": [
    "### Recommendation Algorithm using Jaccard Similarity"
   ]
  },
  {
   "cell_type": "code",
   "execution_count": 55,
   "id": "346a0bdc",
   "metadata": {},
   "outputs": [],
   "source": [
    "# JACCARD SIMILARITY \n",
    "\n",
    "def recommend_products(tx, product_name):\n",
    "    query = \"\"\"\n",
    "    MATCH (p1:Product)\n",
    "    WHERE p1.product_name IN $product_name\n",
    "    WITH p1\n",
    "    MATCH (p2:Product)\n",
    "    WHERE p1 <> p2 AND NOT p2.product_name IN $product_name\n",
    "    WITH p1, p2,\n",
    "    gds.similarity.jaccard([p1.price, p1.product_rating, p1.categorical_numerical, \n",
    "    p1.discount_percentage, p1.num_rating], \n",
    "    [p2.price, p2.product_rating, p2.categorical_numerical, p2.discount_percentage, p2.num_rating]) \n",
    "    AS jaccard_similarity, p2.price AS price\n",
    "    ORDER BY jaccard_similarity DESC\n",
    "    RETURN DISTINCT p1.product_name, p2.product_name, p2.price AS price, jaccard_similarity AS similarity\n",
    "\n",
    "    \"\"\"\n",
    "    result = tx.run(query, product_name=product_name)\n",
    "    return [{\"product_name\": record[\"p2.product_name\"], \"similarity\": record[\"similarity\"], \"price\": record[\"price\"]} for record in result]\n"
   ]
  },
  {
   "cell_type": "code",
   "execution_count": 57,
   "id": "07bbed07",
   "metadata": {},
   "outputs": [
    {
     "name": "stdout",
     "output_type": "stream",
     "text": [
      "Based on your favorite two products, these are the recommendations we have for you!\n"
     ]
    },
    {
     "data": {
      "text/html": [
       "<div>\n",
       "<style scoped>\n",
       "    .dataframe tbody tr th:only-of-type {\n",
       "        vertical-align: middle;\n",
       "    }\n",
       "\n",
       "    .dataframe tbody tr th {\n",
       "        vertical-align: top;\n",
       "    }\n",
       "\n",
       "    .dataframe thead th {\n",
       "        text-align: right;\n",
       "    }\n",
       "</style>\n",
       "<table border=\"1\" class=\"dataframe\">\n",
       "  <thead>\n",
       "    <tr style=\"text-align: right;\">\n",
       "      <th></th>\n",
       "      <th>product_name</th>\n",
       "      <th>price</th>\n",
       "      <th>similarity</th>\n",
       "    </tr>\n",
       "  </thead>\n",
       "  <tbody>\n",
       "    <tr>\n",
       "      <th>0</th>\n",
       "      <td>AirCase Rugged Hard Drive Case for 2.5-inch We...</td>\n",
       "      <td>5.99</td>\n",
       "      <td>1.000000</td>\n",
       "    </tr>\n",
       "    <tr>\n",
       "      <th>1</th>\n",
       "      <td>HUMBLE Dynamic Lapel Collar Mic Voice Recordin...</td>\n",
       "      <td>5.99</td>\n",
       "      <td>0.333333</td>\n",
       "    </tr>\n",
       "    <tr>\n",
       "      <th>2</th>\n",
       "      <td>FEDUS Cat6 Ethernet Cable, 10 Meter High Speed...</td>\n",
       "      <td>5.99</td>\n",
       "      <td>0.333333</td>\n",
       "    </tr>\n",
       "    <tr>\n",
       "      <th>3</th>\n",
       "      <td>boAt Micro USB 55 Tangle-free, Sturdy Micro US...</td>\n",
       "      <td>5.99</td>\n",
       "      <td>0.333333</td>\n",
       "    </tr>\n",
       "    <tr>\n",
       "      <th>4</th>\n",
       "      <td>boAt Type C A325 Tangle-free, Sturdy Type C Ca...</td>\n",
       "      <td>5.99</td>\n",
       "      <td>0.333333</td>\n",
       "    </tr>\n",
       "  </tbody>\n",
       "</table>\n",
       "</div>"
      ],
      "text/plain": [
       "                                        product_name  price  similarity\n",
       "0  AirCase Rugged Hard Drive Case for 2.5-inch We...   5.99    1.000000\n",
       "1  HUMBLE Dynamic Lapel Collar Mic Voice Recordin...   5.99    0.333333\n",
       "2  FEDUS Cat6 Ethernet Cable, 10 Meter High Speed...   5.99    0.333333\n",
       "3  boAt Micro USB 55 Tangle-free, Sturdy Micro US...   5.99    0.333333\n",
       "4  boAt Type C A325 Tangle-free, Sturdy Type C Ca...   5.99    0.333333"
      ]
     },
     "execution_count": 57,
     "metadata": {},
     "output_type": "execute_result"
    }
   ],
   "source": [
    "with driver.session() as session:\n",
    "    recommended_products = session.execute_write(recommend_products, product_name=product_name)\n",
    "    df = pd.DataFrame(recommended_products)\n",
    "    df.drop_duplicates(subset=['product_name'], keep='first', inplace=True)\n",
    "    df = df[['product_name','price', 'similarity']] # add this line to select only the columns you want\n",
    "    df['price'] = pd.to_numeric(df['price']) # add this line to convert the price column to numeric values\n",
    "\n",
    "print(\"Based on your favorite two products, these are the recommendations we have for you!\")\n",
    "df.head()\n",
    "\n"
   ]
  },
  {
   "cell_type": "code",
   "execution_count": null,
   "id": "d8d8cfa8",
   "metadata": {},
   "outputs": [],
   "source": [
    "#Close the Neo4j driver connection\n",
    "driver.close()"
   ]
  },
  {
   "cell_type": "markdown",
   "id": "d7861be1",
   "metadata": {},
   "source": []
  }
 ],
 "metadata": {
  "kernelspec": {
   "display_name": "Python 3 (ipykernel)",
   "language": "python",
   "name": "python3"
  },
  "language_info": {
   "codemirror_mode": {
    "name": "ipython",
    "version": 3
   },
   "file_extension": ".py",
   "mimetype": "text/x-python",
   "name": "python",
   "nbconvert_exporter": "python",
   "pygments_lexer": "ipython3",
   "version": "3.9.7"
  }
 },
 "nbformat": 4,
 "nbformat_minor": 5
}
