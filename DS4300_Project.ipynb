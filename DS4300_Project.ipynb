{
 "cells": [
  {
   "cell_type": "markdown",
   "id": "051703ee",
   "metadata": {},
   "source": [
    "##  Consumer Oriented Amazon Product Recommendation Engine"
   ]
  },
  {
   "cell_type": "code",
   "execution_count": 33,
   "id": "d45d014c",
   "metadata": {},
   "outputs": [],
   "source": [
    "import pandas as pd\n",
    "import numpy as np\n",
    "from neo4j import GraphDatabase\n",
    "import csv"
   ]
  },
  {
   "cell_type": "code",
   "execution_count": 36,
   "id": "4c3be56c",
   "metadata": {},
   "outputs": [],
   "source": [
    "df = pd.read_csv('amazon.csv')"
   ]
  },
  {
   "cell_type": "markdown",
   "id": "dd0d7be0",
   "metadata": {},
   "source": [
    "### Data Cleaning\n",
    "- Limit the dataset to 1000 entries for faster processing\n",
    "- Convert necessary string column types like price, discount_price to float\n",
    "- Drop unneeded columns like product link and image link\n",
    "- Assign categorical value to Category column of dataframe\n",
    "- Convert non-dollar currencies to dollar values\n",
    "- Limit the number of words in each Amazon product name to 10"
   ]
  },
  {
   "cell_type": "code",
   "execution_count": 37,
   "id": "6df54064",
   "metadata": {},
   "outputs": [
    {
     "data": {
      "text/plain": [
       "0      Reffair AX30 [MAX] Portable Air Purifier for C...\n",
       "1           rts [2 Pack] Mini USB C Type C Adapter Plug,\n",
       "2            Kanget [2 Pack] Type C Female to USB A Male\n",
       "3        Hp Wired On Ear Headphones With Mic With 3.5 Mm\n",
       "4      JBL Commercial CSLM20B Auxiliary Omnidirection...\n",
       "                             ...                        \n",
       "994    Havells Ambrose 1200mm Ceiling Fan (Gold Mist ...\n",
       "995              Bajaj Frore 1200 mm Ceiling Fan (Brown)\n",
       "996    Crompton Sea Sapphira 1200 mm Ultra High Speed...\n",
       "997    Havells Glaze 74W Pearl Ivory Gold Ceiling Fan...\n",
       "998    Crompton Hill Briz Deco 1200mm (48 inch) High ...\n",
       "Name: product_name, Length: 999, dtype: object"
      ]
     },
     "execution_count": 37,
     "metadata": {},
     "output_type": "execute_result"
    }
   ],
   "source": [
    "#strip the product name to three words \n",
    "df['product_name'] = df['product_name'].str.split().str[:10].str.join(' ')\n",
    "df['product_name']"
   ]
  },
  {
   "cell_type": "code",
   "execution_count": 4,
   "id": "5fcc43eb",
   "metadata": {},
   "outputs": [],
   "source": [
    "# Establish a connection to your Neo4j database\n",
    "uri = \"bolt://localhost:7687\"\n",
    "username = \"neo4j\"\n",
    "password = \"password\"\n",
    "driver = GraphDatabase.driver(uri, auth=(username, password)) # Connect to Neo4j database"
   ]
  },
  {
   "cell_type": "code",
   "execution_count": 5,
   "id": "cb13c070",
   "metadata": {},
   "outputs": [],
   "source": [
    "# Create a product node in Neo4j\n",
    "def create_product(tx, product):\n",
    "    query = \"\"\"\n",
    "    CREATE (p:Product {product_name: $product_name, price: $price, rating: $rating, \n",
    "    category: $category, discount_percentage: $discount_percentage, \n",
    "    review_title: $review_title, discounted_price: $discounted_price})\n",
    "    \"\"\"\n",
    "    tx.run(query, product_name=product['product_name'], price=product['price'], \n",
    "           rating=product['rating'], category=product['category'], \n",
    "           discount_percentage=product['discount_percentage'], \n",
    "           review_title=product['review_title'], discounted_price=product['discounted_price'])\n"
   ]
  },
  {
   "cell_type": "code",
   "execution_count": 6,
   "id": "d3d189f6",
   "metadata": {},
   "outputs": [],
   "source": [
    "# Read product data from CSV file\n",
    "def read_product_data_from_csv(file_path):\n",
    "    products = []\n",
    "    with open(file_path, newline='') as csvfile:\n",
    "        reader = csv.DictReader(csvfile)\n",
    "        for row in reader:\n",
    "            product = {\n",
    "                'product_name': row['product_name'],\n",
    "                'price': float(row['price']),\n",
    "                'rating': float(row['rating']),\n",
    "                'category': row['category'],\n",
    "                'discount_percentage': float(row['discount_percentage']),\n",
    "                'review_title': row['review_title'],\n",
    "                'discounted_price': float(row['discounted_price'])\n",
    "            }\n",
    "            products.append(product)\n",
    "    return products"
   ]
  },
  {
   "cell_type": "code",
   "execution_count": 20,
   "id": "43d786aa",
   "metadata": {},
   "outputs": [],
   "source": [
    "# Amazon CSV file path\n",
    "csv_file = 'amazon.csv'\n",
    "\n",
    "# Create product nodes in Neo4j\n",
    "with driver.session() as session:\n",
    "    products = read_product_data_from_csv(csv_file)\n",
    "    for product in products:\n",
    "        session.execute_write(create_product, product)"
   ]
  },
  {
   "cell_type": "code",
   "execution_count": 26,
   "id": "b490eb83",
   "metadata": {},
   "outputs": [],
   "source": [
    "# Create an edge between two products in Neo4j\n",
    "def create_edge(tx, product1, product2):\n",
    "    query = \"\"\"\n",
    "    MATCH (p1:Product {product_name: $product_name_1})\n",
    "    MATCH (p2:Product {product_name: $product_name_2})\n",
    "    CREATE (p1)-[:SIMILAR]->(p2)\n",
    "    \"\"\"\n",
    "    tx.run(query, product_name_1=product1['product_name'], product_name_2=product2['product_name'])"
   ]
  },
  {
   "cell_type": "code",
   "execution_count": 27,
   "id": "1acdfad1",
   "metadata": {},
   "outputs": [
    {
     "name": "stderr",
     "output_type": "stream",
     "text": [
      "/var/folders/rz/vdqsbcg13dn2ntcv37cds99c0000gn/T/ipykernel_59203/892967661.py:13: DeprecationWarning: write_transaction has been renamed to execute_write\n",
      "  session.write_transaction(create_edge, product1, product2)\n",
      "Failed to write data to connection IPv4Address(('localhost', 7687)) (IPv4Address(('127.0.0.1', 7687)))\n",
      "Transaction failed and will be retried in 1.0619362631833467s (Failed to write data to connection IPv4Address(('localhost', 7687)) (IPv4Address(('127.0.0.1', 7687))))\n"
     ]
    }
   ],
   "source": [
    "with driver.session() as session:        \n",
    "    # Create edges between products based on criteria\n",
    "    for i in range(len(products)):\n",
    "        for j in range(i + 1, len(products)):\n",
    "            product1 = products[i]\n",
    "            product2 = products[j]\n",
    "\n",
    "            # Check criteria for creating edge\n",
    "            if (product1['category'] == product2['category'] and\n",
    "                    abs(product1['price'] - product2['price']) <= 10 and\n",
    "                    product1['rating'] == product2['rating'] and\n",
    "                    abs(product1['discount_percentage'] - product2['discount_percentage']) <= 0.1):\n",
    "                session.execute_write(create_edge, product1, product2)\n"
   ]
  },
  {
   "cell_type": "code",
   "execution_count": 28,
   "id": "a029aa1f",
   "metadata": {},
   "outputs": [],
   "source": [
    "#delete some edges in neo4j\n",
    "\n",
    "# MATCH ()-[r]->()\n",
    "# WITH r LIMIT 10000\n",
    "# DELETE r\n"
   ]
  },
  {
   "cell_type": "code",
   "execution_count": null,
   "id": "d090fb0a",
   "metadata": {},
   "outputs": [],
   "source": [
    "#TODO- recommendation algorithm"
   ]
  },
  {
   "cell_type": "code",
   "execution_count": null,
   "id": "8a982cc5",
   "metadata": {},
   "outputs": [],
   "source": [
    "# Close the Neo4j driver connection\n",
    "driver.close()\n"
   ]
  },
  {
   "cell_type": "code",
   "execution_count": null,
   "id": "8078a02e",
   "metadata": {},
   "outputs": [],
   "source": []
  },
  {
   "cell_type": "code",
   "execution_count": null,
   "id": "ff8cf77b",
   "metadata": {},
   "outputs": [],
   "source": []
  }
 ],
 "metadata": {
  "kernelspec": {
   "display_name": "Python 3 (ipykernel)",
   "language": "python",
   "name": "python3"
  },
  "language_info": {
   "codemirror_mode": {
    "name": "ipython",
    "version": 3
   },
   "file_extension": ".py",
   "mimetype": "text/x-python",
   "name": "python",
   "nbconvert_exporter": "python",
   "pygments_lexer": "ipython3",
   "version": "3.9.12"
  }
 },
 "nbformat": 4,
 "nbformat_minor": 5
}
