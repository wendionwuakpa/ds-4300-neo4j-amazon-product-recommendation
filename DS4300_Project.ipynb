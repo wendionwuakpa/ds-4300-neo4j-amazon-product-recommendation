{
 "cells": [
  {
   "cell_type": "markdown",
   "id": "8aea6f72",
   "metadata": {},
   "source": [
    "##  Consumer Oriented Amazon Product Recommendation Engine"
   ]
  },
  {
   "cell_type": "code",
   "execution_count": 76,
   "id": "d45d014c",
   "metadata": {},
   "outputs": [],
   "source": [
    "import pandas as pd\n",
    "import numpy as np\n",
    "from neo4j import GraphDatabase\n",
    "import csv"
   ]
  },
  {
   "cell_type": "code",
   "execution_count": 77,
   "id": "4c3be56c",
   "metadata": {},
   "outputs": [],
   "source": [
    "df = pd.read_csv('amazon.csv')"
   ]
  },
  {
   "cell_type": "markdown",
   "id": "53096074",
   "metadata": {},
   "source": [
    "### Data Cleaning\n",
    "- Limit the dataset to 1000 entries for faster processing\n",
    "- Convert necessary string column types like price, discount_price to float\n",
    "- Drop unneeded columns like product link and image link\n",
    "- Assign categorical value to Category column of dataframe\n",
    "- Convert non-dollar currencies to dollar values\n",
    "- Limit the number of words in each Amazon product name to 10"
   ]
  },
  {
   "cell_type": "code",
   "execution_count": 78,
   "id": "6df54064",
   "metadata": {},
   "outputs": [
    {
     "data": {
      "text/plain": [
       "0      Reffair AX30 [MAX] Portable Air Purifier for C...\n",
       "1           rts [2 Pack] Mini USB C Type C Adapter Plug,\n",
       "2            Kanget [2 Pack] Type C Female to USB A Male\n",
       "3        Hp Wired On Ear Headphones With Mic With 3.5 Mm\n",
       "4      JBL Commercial CSLM20B Auxiliary Omnidirection...\n",
       "                             ...                        \n",
       "994    Havells Ambrose 1200mm Ceiling Fan (Gold Mist ...\n",
       "995              Bajaj Frore 1200 mm Ceiling Fan (Brown)\n",
       "996    Crompton Sea Sapphira 1200 mm Ultra High Speed...\n",
       "997    Havells Glaze 74W Pearl Ivory Gold Ceiling Fan...\n",
       "998    Crompton Hill Briz Deco 1200mm (48 inch) High ...\n",
       "Name: product_name, Length: 999, dtype: object"
      ]
     },
     "execution_count": 78,
     "metadata": {},
     "output_type": "execute_result"
    }
   ],
   "source": [
    "#strip the product name to three words \n",
    "df['product_name'] = df['product_name'].str.split().str[:10].str.join(' ')\n",
    "df['product_name']"
   ]
  },
  {
   "cell_type": "code",
   "execution_count": 104,
   "id": "cd134edf",
   "metadata": {},
   "outputs": [
    {
     "ename": "KeyError",
     "evalue": "'category'",
     "output_type": "error",
     "traceback": [
      "\u001b[0;31m---------------------------------------------------------------------------\u001b[0m",
      "\u001b[0;31mKeyError\u001b[0m                                  Traceback (most recent call last)",
      "File \u001b[0;32m~/opt/anaconda3/lib/python3.9/site-packages/pandas/core/indexes/base.py:3803\u001b[0m, in \u001b[0;36mIndex.get_loc\u001b[0;34m(self, key, method, tolerance)\u001b[0m\n\u001b[1;32m   3802\u001b[0m \u001b[38;5;28;01mtry\u001b[39;00m:\n\u001b[0;32m-> 3803\u001b[0m     \u001b[38;5;28;01mreturn\u001b[39;00m \u001b[38;5;28;43mself\u001b[39;49m\u001b[38;5;241;43m.\u001b[39;49m\u001b[43m_engine\u001b[49m\u001b[38;5;241;43m.\u001b[39;49m\u001b[43mget_loc\u001b[49m\u001b[43m(\u001b[49m\u001b[43mcasted_key\u001b[49m\u001b[43m)\u001b[49m\n\u001b[1;32m   3804\u001b[0m \u001b[38;5;28;01mexcept\u001b[39;00m \u001b[38;5;167;01mKeyError\u001b[39;00m \u001b[38;5;28;01mas\u001b[39;00m err:\n",
      "File \u001b[0;32m~/opt/anaconda3/lib/python3.9/site-packages/pandas/_libs/index.pyx:138\u001b[0m, in \u001b[0;36mpandas._libs.index.IndexEngine.get_loc\u001b[0;34m()\u001b[0m\n",
      "File \u001b[0;32m~/opt/anaconda3/lib/python3.9/site-packages/pandas/_libs/index.pyx:165\u001b[0m, in \u001b[0;36mpandas._libs.index.IndexEngine.get_loc\u001b[0;34m()\u001b[0m\n",
      "File \u001b[0;32mpandas/_libs/hashtable_class_helper.pxi:5745\u001b[0m, in \u001b[0;36mpandas._libs.hashtable.PyObjectHashTable.get_item\u001b[0;34m()\u001b[0m\n",
      "File \u001b[0;32mpandas/_libs/hashtable_class_helper.pxi:5753\u001b[0m, in \u001b[0;36mpandas._libs.hashtable.PyObjectHashTable.get_item\u001b[0;34m()\u001b[0m\n",
      "\u001b[0;31mKeyError\u001b[0m: 'category'",
      "\nThe above exception was the direct cause of the following exception:\n",
      "\u001b[0;31mKeyError\u001b[0m                                  Traceback (most recent call last)",
      "Input \u001b[0;32mIn [104]\u001b[0m, in \u001b[0;36m<cell line: 2>\u001b[0;34m()\u001b[0m\n\u001b[1;32m      1\u001b[0m \u001b[38;5;66;03m#add a more general category \u001b[39;00m\n\u001b[0;32m----> 2\u001b[0m df[\u001b[38;5;124m'\u001b[39m\u001b[38;5;124mgeneral_cat\u001b[39m\u001b[38;5;124m'\u001b[39m] \u001b[38;5;241m=\u001b[39m \u001b[43mdf\u001b[49m\u001b[43m[\u001b[49m\u001b[38;5;124;43m'\u001b[39;49m\u001b[38;5;124;43mcategory\u001b[39;49m\u001b[38;5;124;43m'\u001b[39;49m\u001b[43m]\u001b[49m\u001b[38;5;241m.\u001b[39mstr\u001b[38;5;241m.\u001b[39msplit(\u001b[38;5;124m'\u001b[39m\u001b[38;5;124m|\u001b[39m\u001b[38;5;124m'\u001b[39m, n\u001b[38;5;241m=\u001b[39m\u001b[38;5;241m2\u001b[39m)\u001b[38;5;241m.\u001b[39mstr[\u001b[38;5;241m0\u001b[39m]\n\u001b[1;32m      3\u001b[0m \u001b[38;5;28mset\u001b[39m(df[\u001b[38;5;124m'\u001b[39m\u001b[38;5;124mgeneral_cat\u001b[39m\u001b[38;5;124m'\u001b[39m])\n",
      "File \u001b[0;32m~/opt/anaconda3/lib/python3.9/site-packages/pandas/core/frame.py:3804\u001b[0m, in \u001b[0;36mDataFrame.__getitem__\u001b[0;34m(self, key)\u001b[0m\n\u001b[1;32m   3802\u001b[0m \u001b[38;5;28;01mif\u001b[39;00m \u001b[38;5;28mself\u001b[39m\u001b[38;5;241m.\u001b[39mcolumns\u001b[38;5;241m.\u001b[39mnlevels \u001b[38;5;241m>\u001b[39m \u001b[38;5;241m1\u001b[39m:\n\u001b[1;32m   3803\u001b[0m     \u001b[38;5;28;01mreturn\u001b[39;00m \u001b[38;5;28mself\u001b[39m\u001b[38;5;241m.\u001b[39m_getitem_multilevel(key)\n\u001b[0;32m-> 3804\u001b[0m indexer \u001b[38;5;241m=\u001b[39m \u001b[38;5;28;43mself\u001b[39;49m\u001b[38;5;241;43m.\u001b[39;49m\u001b[43mcolumns\u001b[49m\u001b[38;5;241;43m.\u001b[39;49m\u001b[43mget_loc\u001b[49m\u001b[43m(\u001b[49m\u001b[43mkey\u001b[49m\u001b[43m)\u001b[49m\n\u001b[1;32m   3805\u001b[0m \u001b[38;5;28;01mif\u001b[39;00m is_integer(indexer):\n\u001b[1;32m   3806\u001b[0m     indexer \u001b[38;5;241m=\u001b[39m [indexer]\n",
      "File \u001b[0;32m~/opt/anaconda3/lib/python3.9/site-packages/pandas/core/indexes/base.py:3805\u001b[0m, in \u001b[0;36mIndex.get_loc\u001b[0;34m(self, key, method, tolerance)\u001b[0m\n\u001b[1;32m   3803\u001b[0m     \u001b[38;5;28;01mreturn\u001b[39;00m \u001b[38;5;28mself\u001b[39m\u001b[38;5;241m.\u001b[39m_engine\u001b[38;5;241m.\u001b[39mget_loc(casted_key)\n\u001b[1;32m   3804\u001b[0m \u001b[38;5;28;01mexcept\u001b[39;00m \u001b[38;5;167;01mKeyError\u001b[39;00m \u001b[38;5;28;01mas\u001b[39;00m err:\n\u001b[0;32m-> 3805\u001b[0m     \u001b[38;5;28;01mraise\u001b[39;00m \u001b[38;5;167;01mKeyError\u001b[39;00m(key) \u001b[38;5;28;01mfrom\u001b[39;00m \u001b[38;5;21;01merr\u001b[39;00m\n\u001b[1;32m   3806\u001b[0m \u001b[38;5;28;01mexcept\u001b[39;00m \u001b[38;5;167;01mTypeError\u001b[39;00m:\n\u001b[1;32m   3807\u001b[0m     \u001b[38;5;66;03m# If we have a listlike key, _check_indexing_error will raise\u001b[39;00m\n\u001b[1;32m   3808\u001b[0m     \u001b[38;5;66;03m#  InvalidIndexError. Otherwise we fall through and re-raise\u001b[39;00m\n\u001b[1;32m   3809\u001b[0m     \u001b[38;5;66;03m#  the TypeError.\u001b[39;00m\n\u001b[1;32m   3810\u001b[0m     \u001b[38;5;28mself\u001b[39m\u001b[38;5;241m.\u001b[39m_check_indexing_error(key)\n",
      "\u001b[0;31mKeyError\u001b[0m: 'category'"
     ]
    }
   ],
   "source": [
    "#add a more general category \n",
    "df['general_cat'] = df['category'].str.split('|', n=2).str[0]\n",
    "set(df['general_cat'])"
   ]
  },
  {
   "cell_type": "code",
   "execution_count": 80,
   "id": "9c091995",
   "metadata": {},
   "outputs": [],
   "source": [
    "df.to_csv('amazon.csv')"
   ]
  },
  {
   "cell_type": "code",
   "execution_count": 4,
   "id": "5fcc43eb",
   "metadata": {},
   "outputs": [],
   "source": [
    "# Establish a connection to your Neo4j database\n",
    "uri = \"bolt://localhost:7687\"\n",
    "username = \"neo4j\"\n",
    "password = \"password\"\n",
    "driver = GraphDatabase.driver(uri, auth=(username, password)) # Connect to Neo4j database"
   ]
  },
  {
   "cell_type": "code",
   "execution_count": 5,
   "id": "d847af9b",
   "metadata": {},
   "outputs": [],
   "source": [
    "# Create a product node in Neo4j\n",
    "def create_product(tx, product):\n",
    "    query = \"\"\"\n",
    "    CREATE (p:Product {product_name: $product_name, price: $price, rating: $rating, \n",
    "    category: $category, discount_percentage: $discount_percentage, \n",
    "    review_title: $review_title, discounted_price: $discounted_price})\n",
    "    \"\"\"\n",
    "    tx.run(query, product_name=product['product_name'], price=product['price'], \n",
    "           rating=product['rating'], category=product['category'], \n",
    "           discount_percentage=product['discount_percentage'], \n",
    "           review_title=product['review_title'], discounted_price=product['discounted_price'])\n"
   ]
  },
  {
   "cell_type": "code",
   "execution_count": 6,
   "id": "8c4463a8",
   "metadata": {},
   "outputs": [],
   "source": [
    "# Read product data from CSV file\n",
    "def read_product_data_from_csv(file_path):\n",
    "    products = []\n",
    "    with open(file_path, newline='') as csvfile:\n",
    "        reader = csv.DictReader(csvfile)\n",
    "        for row in reader:\n",
    "            product = {\n",
    "                'product_name': row['product_name'],\n",
    "                'price': float(row['price']),\n",
    "                'rating': float(row['rating']),\n",
    "                'category': row['category'],\n",
    "                'discount_percentage': float(row['discount_percentage']),\n",
    "                'review_title': row['review_title'],\n",
    "                'discounted_price': float(row['discounted_price'])\n",
    "                'general_cat': row['general_cat'],\n",
    "                'product_id': row['product_id'],\n",
    "                'image_link': row['img_link']\n",
    "            }\n",
    "            products.append(product)\n",
    "    return products"
   ]
  },
  {
   "cell_type": "code",
   "execution_count": 20,
   "id": "df1dbb29",
   "metadata": {},
   "outputs": [],
   "source": [
    "# Amazon CSV file path\n",
    "csv_file = 'amazon.csv'\n",
    "\n",
    "# Create product nodes in Neo4j\n",
    "with driver.session() as session:\n",
    "    products = read_product_data_from_csv(csv_file)\n",
    "    for product in products:\n",
    "        session.execute_write(create_product, product)"
   ]
  },
  {
   "cell_type": "code",
   "execution_count": 26,
   "id": "1496c5be",
   "metadata": {},
   "outputs": [],
   "source": [
    "# Create an edge between two products in Neo4j\n",
    "def create_edge(tx, product1, product2):\n",
    "    query = \"\"\"\n",
    "    MATCH (p1:Product {product_name: $product_name_1})\n",
    "    MATCH (p2:Product {product_name: $product_name_2})\n",
    "    CREATE (p1)-[:SIMILAR]->(p2)\n",
    "    \"\"\"\n",
    "    tx.run(query, product_name_1=product1['product_name'], product_name_2=product2['product_name'])"
   ]
  },
  {
   "cell_type": "code",
   "execution_count": 27,
   "id": "1acdfad1",
   "metadata": {},
   "outputs": [
    {
     "name": "stderr",
     "output_type": "stream",
     "text": [
      "/var/folders/rz/vdqsbcg13dn2ntcv37cds99c0000gn/T/ipykernel_59203/892967661.py:13: DeprecationWarning: write_transaction has been renamed to execute_write\n",
      "  session.write_transaction(create_edge, product1, product2)\n",
      "Failed to write data to connection IPv4Address(('localhost', 7687)) (IPv4Address(('127.0.0.1', 7687)))\n",
      "Transaction failed and will be retried in 1.0619362631833467s (Failed to write data to connection IPv4Address(('localhost', 7687)) (IPv4Address(('127.0.0.1', 7687))))\n"
     ]
    }
   ],
   "source": [
    "with driver.session() as session:        \n",
    "    # Create edges between products based on criteria\n",
    "    for i in range(len(products)):\n",
    "        for j in range(i + 1, len(products)):\n",
    "            product1 = products[i]\n",
    "            product2 = products[j]\n",
    "\n",
    "            # Check criteria for creating edge\n",
    "            if (product1['category'] == product2['category'] and\n",
    "                    abs(product1['price'] - product2['price']) <= 10 and\n",
    "                    product1['rating'] == product2['rating'] and\n",
    "                    abs(product1['discount_percentage'] - product2['discount_percentage']) <= 0.1):\n",
    "                session.execute_write(create_edge, product1, product2)\n"
   ]
  },
  {
   "cell_type": "code",
   "execution_count": 28,
   "id": "a029aa1f",
   "metadata": {},
   "outputs": [],
   "source": [
    "#delete some edges in neo4j\n",
    "\n",
    "# MATCH ()-[r]->()\n",
    "# WITH r LIMIT 10000\n",
    "# DELETE r\n"
   ]
  },
  {
   "cell_type": "markdown",
   "id": "318bdc06",
   "metadata": {},
   "source": [
    "### User Provided Input \n",
    "Categories of products available: \n",
    "1. 'Car & Motorbike',\n",
    "2. 'Computers & Accessories',\n",
    "3. 'Electronics',\n",
    "4. 'Health & PersonalCare',\n",
    "5. 'Home & Kitchen'"
   ]
  },
  {
   "cell_type": "code",
   "execution_count": 74,
   "id": "12e3d6b1",
   "metadata": {},
   "outputs": [],
   "source": [
    "cat_num = {1: 'Car&Motorbike',\n",
    " 2: 'Computers&Accessories',\n",
    " 3: 'Electronics',\n",
    " 4: 'Health&PersonalCare',\n",
    " 5: 'Home&Kitchen'}"
   ]
  },
  {
   "cell_type": "code",
   "execution_count": 83,
   "id": "d090fb0a",
   "metadata": {},
   "outputs": [
    {
     "name": "stdout",
     "output_type": "stream",
     "text": [
      "Welcome to the Amazon Product Recommender! \n",
      "For the questions, enter only an integer\n",
      "From the list above of Product Categories, What type of product are you interested in? 2\n",
      "What is your maximum budget? 100\n",
      "What is the minimum number of stars you want for the product: 4\n",
      "What is the minumum number of ratings you want for the product: 100\n"
     ]
    }
   ],
   "source": [
    "print(\"Welcome to the Amazon Product Recommender! \")\n",
    "print(\"For the questions, enter only an integer\")\n",
    "input_category = int(input(\"From the list above of Product Categories, What type of product are you interested in? \"))\n",
    "input_max_price = int(input(\"What is your maximum budget? \"))\n",
    "input_rating = int(input(\"What is the minimum number of stars you want for the product: \"))\n",
    "input_num_ratings = int(input(\"What is the minumum number of ratings you want for the product: \"))\n",
    "        "
   ]
  },
  {
   "cell_type": "code",
   "execution_count": null,
   "id": "9c934faa",
   "metadata": {},
   "outputs": [],
   "source": []
  },
  {
   "cell_type": "code",
   "execution_count": 93,
   "id": "901d35fd",
   "metadata": {},
   "outputs": [],
   "source": [
    "from neo4j import GraphDatabase\n",
    "\n",
    "# # Define the user input values for price, rating, and category\n",
    "# input_price = 100\n",
    "# input_rating = 4.5\n",
    "# input_category = \"Electronics\"\n",
    "\n",
    "# Define the Cypher query with parameters for user input\n",
    "query = \"\"\"\n",
    "MATCH (inputProduct:Product)\n",
    "WHERE inputProduct.price <= $inputPrice \n",
    "AND inputProduct.rating >= $inputRating \n",
    "AND inputProduct.general_cat = $inputCategory\n",
    "WITH inputProduct\n",
    "MATCH (similarProduct:Product)\n",
    "WHERE similarProduct.price <= $inputPrice \n",
    "AND similarProduct.rating >= $inputRating \n",
    "AND similarProduct.category = $inputCategory\n",
    "AND inputProduct <> similarProduct\n",
    "WITH inputProduct, similarProduct\n",
    "RETURN inputProduct, similarProduct, \n",
    "gds.similarity.euclideanDistance([inputProduct.price, inputProduct.rating, inputProduct.general_cat, inputProduct.category], \n",
    "[similarProduct.price, similarProduct.rating, similarProduct.general_cat, similarProduct.category]) AS similarity\n",
    "ORDER BY similarity DESC\n",
    "LIMIT 5\n",
    "\"\"\"\n"
   ]
  },
  {
   "cell_type": "code",
   "execution_count": 98,
   "id": "466d9ecf",
   "metadata": {},
   "outputs": [],
   "source": [
    "#store results in a df \n",
    "# empty lists to store the data\n",
    "input_product_list = []\n",
    "similar_product_list = []\n",
    "similarity_list = []\n",
    "\n",
    "# Execute the Cypher query with parameters\n",
    "with driver.session() as session:\n",
    "    result = session.run(query, inputPrice=input_max_price, inputRating=input_rating, inputCategory=input_category)\n",
    "\n",
    "    # Process the query result\n",
    "    for record in result:\n",
    "        input_product = record[\"inputProduct\"][\"product_name\"]\n",
    "        similar_product = record[\"similarProduct\"][\"product_name\"]\n",
    "        similarity = record[\"similarity\"]\n",
    "        \n",
    "        # Process the results as needed, e.g., display or store recommendations\n",
    "        #print(f\"Input Product: {input_product}, Similar Product: {similar_product}, Similarity: {similarity}\")\n",
    "        # Append the data to the respective lists\n",
    "        input_product_list.append(input_product)\n",
    "        similar_product_list.append(similar_product)\n",
    "        similarity_list.append(similarity)\n",
    "\n",
    "# Create a DataFrame from the lists\n",
    "df = pd.DataFrame({\n",
    "    \"Input Product\": input_product_list,\n",
    "    \"Similar Product\": similar_product_list,\n",
    "    \"Similarity\": similarity_list\n",
    "})"
   ]
  },
  {
   "cell_type": "code",
   "execution_count": 100,
   "id": "f55da947",
   "metadata": {},
   "outputs": [
    {
     "data": {
      "text/html": [
       "<div>\n",
       "<style scoped>\n",
       "    .dataframe tbody tr th:only-of-type {\n",
       "        vertical-align: middle;\n",
       "    }\n",
       "\n",
       "    .dataframe tbody tr th {\n",
       "        vertical-align: top;\n",
       "    }\n",
       "\n",
       "    .dataframe thead th {\n",
       "        text-align: right;\n",
       "    }\n",
       "</style>\n",
       "<table border=\"1\" class=\"dataframe\">\n",
       "  <thead>\n",
       "    <tr style=\"text-align: right;\">\n",
       "      <th></th>\n",
       "      <th>Input Product</th>\n",
       "      <th>Similar Product</th>\n",
       "      <th>Similarity</th>\n",
       "    </tr>\n",
       "  </thead>\n",
       "  <tbody>\n",
       "    <tr>\n",
       "      <th>0</th>\n",
       "      <td>Seagate One Touch 2TB External HDD with Passwo...</td>\n",
       "      <td>E-COSMOS Plug in LED Night Light Mini USB LED ...</td>\n",
       "      <td>94.800475</td>\n",
       "    </tr>\n",
       "    <tr>\n",
       "      <th>1</th>\n",
       "      <td>Seagate One Touch 2TB External HDD with Passwo...</td>\n",
       "      <td>E-COSMOS Plug in LED Night Light Mini USB LED ...</td>\n",
       "      <td>94.800475</td>\n",
       "    </tr>\n",
       "    <tr>\n",
       "      <th>2</th>\n",
       "      <td>E-COSMOS Plug in LED Night Light Mini USB LED ...</td>\n",
       "      <td>Seagate One Touch 2TB External HDD with Passwo...</td>\n",
       "      <td>94.800475</td>\n",
       "    </tr>\n",
       "    <tr>\n",
       "      <th>3</th>\n",
       "      <td>E-COSMOS Plug in LED Night Light Mini USB LED ...</td>\n",
       "      <td>Seagate One Touch 2TB External HDD with Passwo...</td>\n",
       "      <td>94.800475</td>\n",
       "    </tr>\n",
       "    <tr>\n",
       "      <th>4</th>\n",
       "      <td>realme narzo 50i (Mint Green, 2GB RAM+32GB Sto...</td>\n",
       "      <td>Apsara Platinum Pencils Value Pack - Pack of 20</td>\n",
       "      <td>94.800475</td>\n",
       "    </tr>\n",
       "  </tbody>\n",
       "</table>\n",
       "</div>"
      ],
      "text/plain": [
       "                                       Input Product  \\\n",
       "0  Seagate One Touch 2TB External HDD with Passwo...   \n",
       "1  Seagate One Touch 2TB External HDD with Passwo...   \n",
       "2  E-COSMOS Plug in LED Night Light Mini USB LED ...   \n",
       "3  E-COSMOS Plug in LED Night Light Mini USB LED ...   \n",
       "4  realme narzo 50i (Mint Green, 2GB RAM+32GB Sto...   \n",
       "\n",
       "                                     Similar Product  Similarity  \n",
       "0  E-COSMOS Plug in LED Night Light Mini USB LED ...   94.800475  \n",
       "1  E-COSMOS Plug in LED Night Light Mini USB LED ...   94.800475  \n",
       "2  Seagate One Touch 2TB External HDD with Passwo...   94.800475  \n",
       "3  Seagate One Touch 2TB External HDD with Passwo...   94.800475  \n",
       "4    Apsara Platinum Pencils Value Pack - Pack of 20   94.800475  "
      ]
     },
     "metadata": {},
     "output_type": "display_data"
    }
   ],
   "source": [
    "display(df)"
   ]
  },
  {
   "cell_type": "code",
   "execution_count": null,
   "id": "8a982cc5",
   "metadata": {},
   "outputs": [],
   "source": [
    "# Close the Neo4j driver connection\n",
    "driver.close()\n"
   ]
  },
  {
   "cell_type": "code",
   "execution_count": null,
   "id": "ce877bea",
   "metadata": {},
   "outputs": [],
   "source": []
  },
  {
   "cell_type": "code",
   "execution_count": null,
   "id": "ff8cf77b",
   "metadata": {},
   "outputs": [],
   "source": []
  }
 ],
 "metadata": {
  "kernelspec": {
   "display_name": "Python 3 (ipykernel)",
   "language": "python",
   "name": "python3"
  },
  "language_info": {
   "codemirror_mode": {
    "name": "ipython",
    "version": 3
   },
   "file_extension": ".py",
   "mimetype": "text/x-python",
   "name": "python",
   "nbconvert_exporter": "python",
   "pygments_lexer": "ipython3",
   "version": "3.9.12"
  }
 },
 "nbformat": 4,
 "nbformat_minor": 5
}
