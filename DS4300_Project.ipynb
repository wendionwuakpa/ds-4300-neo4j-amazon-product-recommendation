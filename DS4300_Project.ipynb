{
 "cells": [
  {
   "cell_type": "markdown",
   "id": "ca1c932a",
   "metadata": {},
   "source": [
    "##  Consumer Oriented Amazon Product Recommendation Engine"
   ]
  },
  {
   "cell_type": "code",
   "execution_count": 1,
   "id": "d45d014c",
   "metadata": {},
   "outputs": [],
   "source": [
    "import pandas as pd\n",
    "import numpy as np\n",
    "from neo4j import GraphDatabase\n",
    "import csv"
   ]
  },
  {
   "cell_type": "code",
   "execution_count": 2,
   "id": "4c3be56c",
   "metadata": {},
   "outputs": [],
   "source": [
    "df = pd.read_csv('amazon.csv')"
   ]
  },
  {
   "cell_type": "markdown",
   "id": "8b740183",
   "metadata": {},
   "source": [
    "### Data Cleaning\n",
    "- Limit the dataset to 1000 entries for faster processing\n",
    "- Convert necessary string column types like price, discount_price to float\n",
    "- Drop unneeded columns like product link and image link\n",
    "- Assign categorical value to Category column of dataframe\n",
    "- Convert non-dollar currencies to dollar values\n",
    "- Limit the number of words in each Amazon product name to 10"
   ]
  },
  {
   "cell_type": "code",
   "execution_count": 3,
   "id": "5af19123",
   "metadata": {},
   "outputs": [],
   "source": [
    "df = df[df['rating_count'] != '1+H9280443']"
   ]
  },
  {
   "cell_type": "code",
   "execution_count": 4,
   "id": "6df54064",
   "metadata": {},
   "outputs": [
    {
     "data": {
      "text/plain": [
       "0      Reffair AX30 [MAX] Portable Air Purifier for C...\n",
       "1           rts [2 Pack] Mini USB C Type C Adapter Plug,\n",
       "2            Kanget [2 Pack] Type C Female to USB A Male\n",
       "3        Hp Wired On Ear Headphones With Mic With 3.5 Mm\n",
       "4      JBL Commercial CSLM20B Auxiliary Omnidirection...\n",
       "                             ...                        \n",
       "992    Havells Ambrose 1200mm Ceiling Fan (Gold Mist ...\n",
       "993              Bajaj Frore 1200 mm Ceiling Fan (Brown)\n",
       "994    Crompton Sea Sapphira 1200 mm Ultra High Speed...\n",
       "995    Havells Glaze 74W Pearl Ivory Gold Ceiling Fan...\n",
       "996    Crompton Hill Briz Deco 1200mm (48 inch) High ...\n",
       "Name: product_name, Length: 997, dtype: object"
      ]
     },
     "execution_count": 4,
     "metadata": {},
     "output_type": "execute_result"
    }
   ],
   "source": [
    "#strip the product name to three words \n",
    "df['product_name'] = df['product_name'].str.split().str[:10].str.join(' ')\n",
    "df['product_name']"
   ]
  },
  {
   "cell_type": "code",
   "execution_count": 5,
   "id": "d61ebd32",
   "metadata": {},
   "outputs": [
    {
     "data": {
      "text/plain": [
       "{'Accessories',\n",
       " 'Accessories&Peripherals',\n",
       " 'Cameras&Photography',\n",
       " 'CarAccessories',\n",
       " 'Components',\n",
       " 'CraftMaterials',\n",
       " 'ExternalDevices&DataStorage',\n",
       " 'GeneralPurposeBatteries&BatteryChargers',\n",
       " 'Headphones,Earbuds&Accessories',\n",
       " 'Heating,Cooling&AirQuality',\n",
       " 'HomeAudio',\n",
       " 'HomeMedicalSupplies&Equipment',\n",
       " 'HomeTheater,TV&Video',\n",
       " 'Laptops',\n",
       " 'Mobiles&Accessories',\n",
       " 'Monitors',\n",
       " 'NetworkingDevices',\n",
       " 'PowerAccessories',\n",
       " 'Printers,Inks&Accessories',\n",
       " 'Tablets',\n",
       " 'WearableTechnology'}"
      ]
     },
     "execution_count": 5,
     "metadata": {},
     "output_type": "execute_result"
    }
   ],
   "source": [
    "#add a more general category \n",
    "df['general_cat'] = df['category'].str.split('|', n=2).str[1]\n",
    "set(df['general_cat'])"
   ]
  },
  {
   "cell_type": "code",
   "execution_count": 6,
   "id": "f42e96e1",
   "metadata": {},
   "outputs": [],
   "source": [
    "#add new column to assign numbers to categorical data using encoding\n",
    "from sklearn.preprocessing import LabelEncoder \n",
    "\n",
    "# instance of LabelEncoder\n",
    "le = LabelEncoder()\n",
    "\n",
    "# fit and transform the categorical column to numerical values\n",
    "df['category_numerical'] = le.fit_transform(df['general_cat'])"
   ]
  },
  {
   "cell_type": "code",
   "execution_count": 7,
   "id": "8cd5e798",
   "metadata": {},
   "outputs": [],
   "source": [
    "#save the updates to the new csv\n",
    "df.to_csv('amazon.csv')\n"
   ]
  },
  {
   "cell_type": "code",
   "execution_count": 8,
   "id": "5fcc43eb",
   "metadata": {},
   "outputs": [],
   "source": [
    "# Establish a connection to Neo4j database\n",
    "uri = \"bolt://localhost:7687\"\n",
    "username = \"neo4j\"\n",
    "password = \"password\"\n",
    "driver = GraphDatabase.driver(uri, auth=(username, password)) "
   ]
  },
  {
   "cell_type": "markdown",
   "id": "ff4037b1",
   "metadata": {},
   "source": [
    "### Product Node Creation\n"
   ]
  },
  {
   "cell_type": "code",
   "execution_count": 9,
   "id": "a60ee629",
   "metadata": {},
   "outputs": [],
   "source": [
    "# Create a product node in Neo4j\n",
    "def create_product(tx, product):\n",
    "    query = \"\"\"\n",
    "    CREATE (p:Product {product_name: $product_name, product_id : $product_id, price: $price, rating: $rating, \n",
    "    category: $category, discount_percentage: $discount_percentage, \n",
    "    review_title: $review_title, discounted_price: $discounted_price, \n",
    "    general_cat : $general_cat, img_link : $img_link,\n",
    "    rating_count : $rating_count,\n",
    "    category_numerical : $category_numerical})\n",
    "    \"\"\"\n",
    "    tx.run(query, product_name=product['product_name'], \n",
    "           product_id = product['product_id'], \n",
    "           price=product['price'], \n",
    "           rating=product['rating'], \n",
    "           rating_count = product['rating_count'],\n",
    "           category=product['category'], \n",
    "           discount_percentage=product['discount_percentage'],\n",
    "           general_cat = product['general_cat'],\n",
    "           review_title=product['review_title'], \n",
    "           discounted_price=product['discounted_price'], \n",
    "           img_link = product['img_link'],\n",
    "           category_numerical = product['category_numerical']\n",
    "          )\n"
   ]
  },
  {
   "cell_type": "code",
   "execution_count": 10,
   "id": "211cf349",
   "metadata": {},
   "outputs": [],
   "source": [
    "# read the Amazon product data from CSV file\n",
    "def read_product_data_from_csv(file_path):\n",
    "    products = []\n",
    "    with open(file_path, newline='') as csvfile:\n",
    "        reader = csv.DictReader(csvfile)\n",
    "        for row in reader:\n",
    "            product = {\n",
    "                'product_name': row['product_name'],\n",
    "                'price': float(row['price']),\n",
    "                'rating': float(row['rating']),\n",
    "                'category': row['category'],\n",
    "                'discount_percentage': float(row['discount_percentage']),\n",
    "                'review_title': row['review_title'],\n",
    "                'discounted_price': float(row['discounted_price']),\n",
    "                'general_cat': row['general_cat'],\n",
    "                'product_id': row['product_id'],\n",
    "                'img_link': row['img_link'],\n",
    "                'rating_count': int(row['rating_count']),\n",
    "                'category_numerical' : int(row['category_numerical'])\n",
    "            }\n",
    "            products.append(product)\n",
    "    return products"
   ]
  },
  {
   "cell_type": "code",
   "execution_count": 11,
   "id": "bfd2e500",
   "metadata": {},
   "outputs": [],
   "source": [
    "# Amazon CSV file path\n",
    "csv_file = 'amazon.csv'\n",
    "\n",
    "# call create product nodes in Neo4j to make the nodes\n",
    "with driver.session() as session:\n",
    "    products = read_product_data_from_csv(csv_file)\n",
    "    for product in products:\n",
    "        session.execute_write(create_product, product)"
   ]
  },
  {
   "cell_type": "code",
   "execution_count": 12,
   "id": "7a0cdaeb",
   "metadata": {},
   "outputs": [],
   "source": [
    "# # Convert DataFrame to numpy array for vectorized operations\n",
    "# df_array = df[['category_numerical', 'price', 'discount_percentage', 'rating', 'rating_count', 'discounted_price']].values\n",
    "\n",
    "# # Connect similar products via edges\n",
    "# for index1 in range(len(df_array)):\n",
    "#     for index2 in range(index1+1, len(df_array)):\n",
    "#         distance = np.linalg.norm(df_array[index1] - df_array[index2])\n",
    "#         if distance < 2:\n",
    "#             query = \"MATCH (p1:Product {product_name: $product_name1}), (p2:Product {product_name: $product_name2}) CREATE (p1)-[:SIMILAR_TO {distance: $distance}]->(p2)\"\n",
    "#             session.run(query, product_name1=df.iloc[index1]['product_name'], product_name2=df.iloc[index2]['product_name'], distance=distance)\n"
   ]
  },
  {
   "cell_type": "code",
   "execution_count": 13,
   "id": "f560419d",
   "metadata": {},
   "outputs": [],
   "source": [
    "# Create an edge between two products in Neo4j\n",
    "def create_edge(tx, product1, product2):\n",
    "    query = \"\"\"   \n",
    "    MATCH (p1:Product {product_name: $product_name_1})\n",
    "    MATCH (p2:Product {product_name: $product_name_2})\n",
    "    WHERE p1 <> p2\n",
    "    WITH p1, p2,\n",
    "    gds.similarity.euclideanDistance([p1.price, p1.product_rating, p1.categorical_numerical, \n",
    "    p1.discount_percentage, p1.num_rating], \n",
    "    [p2.price, p2.product_rating, p2.categorical_numerical, p2.discount_percentage, p2.num_rating]) \n",
    "    AS euclidean_distance\n",
    "    CREATE (p1)-[:SIMILAR {distance: euclidean_distance}]->(p2)\n",
    "    \n",
    "    \"\"\"\n",
    "    tx.run(query, product_name_1=product1['product_name'], product_name_2=product2['product_name'])"
   ]
  },
  {
   "cell_type": "markdown",
   "id": "67aed9c1",
   "metadata": {},
   "source": [
    "### Edge creation: \n",
    "Egdes between two Nodes are determined on certain criteria made using certain Node properties; product category, product price, product rating, and product discount percentage "
   ]
  },
  {
   "cell_type": "code",
   "execution_count": 14,
   "id": "1acdfad1",
   "metadata": {},
   "outputs": [],
   "source": [
    "with driver.session() as session:        \n",
    "    # Create edges between products based on criteria\n",
    "    for i in range(len(products)):\n",
    "        for j in range(i + 1, len(products)):\n",
    "            product1 = products[i]\n",
    "            product2 = products[j]\n",
    "\n",
    "            # Check criteria for creating edge\n",
    "            if (product1['category'] == product2['category'] and\n",
    "                    (product1['category_numerical'] == product2['category_numerical']) and\n",
    "                    abs(product1['price'] - product2['price']) <= 10 and\n",
    "                    product1['rating'] == product2['rating'] and\n",
    "                    abs(product1['discount_percentage'] - product2['discount_percentage']) <= 0.1):\n",
    "                session.execute_write(create_edge, product1, product2)\n"
   ]
  },
  {
   "cell_type": "code",
   "execution_count": 28,
   "id": "c9450613",
   "metadata": {},
   "outputs": [],
   "source": [
    "# Recommend similar products to a user based on a product name \n",
    "\n",
    "# EUCLIDIAN DISTANCE\n",
    "def recommend_products(tx, product_name):\n",
    "    query = \"\"\"\n",
    "    MATCH (p1:Product {product_name: $product_name})\n",
    "    WITH p1\n",
    "    MATCH (p2:Product)\n",
    "    WHERE p1 <> p2\n",
    "    WITH p1, p2,\n",
    "    gds.similarity.euclideanDistance([p1.price, p1.product_rating, p1.categorical_numerical, \n",
    "    p1.discount_percentage, p1.num_rating], \n",
    "    [p2.price, p2.product_rating, p2.categorical_numerical, p2.discount_percentage, p2.num_rating]) \n",
    "    AS euclidean\n",
    "    ORDER BY euclidean DESC\n",
    "    RETURN DISTINCT p2.product_name, euclidean AS similarity\n",
    "    \"\"\"\n",
    "    result = tx.run(query, product_name=product_name)\n",
    "    return [{\"product_name\": record[\"p2.product_name\"], \"similarity\": record[\"similarity\"]} for record in result]\n"
   ]
  },
  {
   "cell_type": "code",
   "execution_count": 29,
   "id": "866f6109",
   "metadata": {},
   "outputs": [
    {
     "data": {
      "text/html": [
       "<div>\n",
       "<style scoped>\n",
       "    .dataframe tbody tr th:only-of-type {\n",
       "        vertical-align: middle;\n",
       "    }\n",
       "\n",
       "    .dataframe tbody tr th {\n",
       "        vertical-align: top;\n",
       "    }\n",
       "\n",
       "    .dataframe thead th {\n",
       "        text-align: right;\n",
       "    }\n",
       "</style>\n",
       "<table border=\"1\" class=\"dataframe\">\n",
       "  <thead>\n",
       "    <tr style=\"text-align: right;\">\n",
       "      <th></th>\n",
       "      <th>product_name</th>\n",
       "      <th>similarity</th>\n",
       "    </tr>\n",
       "  </thead>\n",
       "  <tbody>\n",
       "    <tr>\n",
       "      <th>0</th>\n",
       "      <td>VU 164 cm (65 inches) The GloLED Series 4K Smart</td>\n",
       "      <td>1008.010061</td>\n",
       "    </tr>\n",
       "    <tr>\n",
       "      <th>2</th>\n",
       "      <td>LG 139 cm (55 inches) 4K Ultra HD Smart LED</td>\n",
       "      <td>947.890084</td>\n",
       "    </tr>\n",
       "    <tr>\n",
       "      <th>6</th>\n",
       "      <td>LG 1.5 Ton 5 Star AI DUAL Inverter Split AC</td>\n",
       "      <td>899.890103</td>\n",
       "    </tr>\n",
       "    <tr>\n",
       "      <th>10</th>\n",
       "      <td>Samsung Galaxy S20 FE 5G (Cloud Navy, 8GB RAM,...</td>\n",
       "      <td>888.000135</td>\n",
       "    </tr>\n",
       "    <tr>\n",
       "      <th>14</th>\n",
       "      <td>Samsung 138 cm (55 inches) Crystal 4K Neo Seri...</td>\n",
       "      <td>838.810073</td>\n",
       "    </tr>\n",
       "  </tbody>\n",
       "</table>\n",
       "</div>"
      ],
      "text/plain": [
       "                                         product_name   similarity\n",
       "0    VU 164 cm (65 inches) The GloLED Series 4K Smart  1008.010061\n",
       "2         LG 139 cm (55 inches) 4K Ultra HD Smart LED   947.890084\n",
       "6         LG 1.5 Ton 5 Star AI DUAL Inverter Split AC   899.890103\n",
       "10  Samsung Galaxy S20 FE 5G (Cloud Navy, 8GB RAM,...   888.000135\n",
       "14  Samsung 138 cm (55 inches) Crystal 4K Neo Seri...   838.810073"
      ]
     },
     "execution_count": 29,
     "metadata": {},
     "output_type": "execute_result"
    }
   ],
   "source": [
    "with driver.session() as session:\n",
    "    recommended_products = session.execute_write(recommend_products, product_name=\"Hp Wired On Ear Headphones With Mic With 3.5 Mm\")\n",
    "    df = pd.DataFrame(recommended_products)\n",
    "    df.drop_duplicates(subset=['product_name'], keep='first', inplace=True)\n",
    "df.head()"
   ]
  },
  {
   "cell_type": "code",
   "execution_count": 24,
   "id": "a029aa1f",
   "metadata": {},
   "outputs": [],
   "source": [
    "# Recommend similar products to a user based on a product name\n",
    "\n",
    "# COSINE SIMILARITY\n",
    "def recommend_products(tx, product_name):\n",
    "    query = \"\"\"\n",
    "    MATCH (p1:Product {product_name: $product_name})\n",
    "    WITH p1\n",
    "    MATCH (p2:Product)\n",
    "    WHERE p1 <> p2\n",
    "    WITH p1, p2,\n",
    "    gds.similarity.cosine([p1.price, p1.product_rating, p1.categorical_numerical, \n",
    "    p1.discount_percentage, p1.num_rating], \n",
    "    [p2.price, p2.product_rating, p2.categorical_numerical, p2.discount_percentage, p2.num_rating]) \n",
    "    AS cosine_similarity\n",
    "    ORDER BY cosine_similarity ASC\n",
    "    RETURN DISTINCT p2.product_name, cosine_similarity AS similarity\n",
    "    \"\"\"\n",
    "    result = tx.run(query, product_name=product_name)\n",
    "    return [{\"product_name\": record[\"p2.product_name\"], \"similarity\": record[\"similarity\"]} for record in result]\n"
   ]
  },
  {
   "cell_type": "code",
   "execution_count": 25,
   "id": "22707989",
   "metadata": {},
   "outputs": [
    {
     "data": {
      "text/html": [
       "<div>\n",
       "<style scoped>\n",
       "    .dataframe tbody tr th:only-of-type {\n",
       "        vertical-align: middle;\n",
       "    }\n",
       "\n",
       "    .dataframe tbody tr th {\n",
       "        vertical-align: top;\n",
       "    }\n",
       "\n",
       "    .dataframe thead th {\n",
       "        text-align: right;\n",
       "    }\n",
       "</style>\n",
       "<table border=\"1\" class=\"dataframe\">\n",
       "  <thead>\n",
       "    <tr style=\"text-align: right;\">\n",
       "      <th></th>\n",
       "      <th>product_name</th>\n",
       "      <th>similarity</th>\n",
       "    </tr>\n",
       "  </thead>\n",
       "  <tbody>\n",
       "    <tr>\n",
       "      <th>0</th>\n",
       "      <td>FLiX (Beetel Flow USB to Micro USB PVC Data Sync</td>\n",
       "      <td>0.958596</td>\n",
       "    </tr>\n",
       "    <tr>\n",
       "      <th>1</th>\n",
       "      <td>Flix Micro Usb Cable For Smartphone (Black)</td>\n",
       "      <td>0.959685</td>\n",
       "    </tr>\n",
       "    <tr>\n",
       "      <th>2</th>\n",
       "      <td>FLiX (Beetel USB to Micro USB PVC Data Sync &amp;</td>\n",
       "      <td>0.959685</td>\n",
       "    </tr>\n",
       "    <tr>\n",
       "      <th>6</th>\n",
       "      <td>GIZGA essentials Universal Silicone Keyboard P...</td>\n",
       "      <td>0.971869</td>\n",
       "    </tr>\n",
       "    <tr>\n",
       "      <th>7</th>\n",
       "      <td>Gizga Essentials Webcam Cover, Privacy Protect...</td>\n",
       "      <td>0.977763</td>\n",
       "    </tr>\n",
       "  </tbody>\n",
       "</table>\n",
       "</div>"
      ],
      "text/plain": [
       "                                        product_name  similarity\n",
       "0   FLiX (Beetel Flow USB to Micro USB PVC Data Sync    0.958596\n",
       "1        Flix Micro Usb Cable For Smartphone (Black)    0.959685\n",
       "2      FLiX (Beetel USB to Micro USB PVC Data Sync &    0.959685\n",
       "6  GIZGA essentials Universal Silicone Keyboard P...    0.971869\n",
       "7  Gizga Essentials Webcam Cover, Privacy Protect...    0.977763"
      ]
     },
     "execution_count": 25,
     "metadata": {},
     "output_type": "execute_result"
    }
   ],
   "source": [
    "with driver.session() as session:\n",
    "    recommended_products = session.execute_write(recommend_products, product_name=\"Hp Wired On Ear Headphones With Mic With 3.5 Mm\")\n",
    "    df = pd.DataFrame(recommended_products)\n",
    "    df.drop_duplicates(subset=['product_name'], keep='first', inplace=True)\n",
    "df.head()"
   ]
  },
  {
   "cell_type": "code",
   "execution_count": 32,
   "id": "61cd4403",
   "metadata": {},
   "outputs": [],
   "source": [
    "# JACCARD SIMILARITY \n",
    "\n",
    "def recommend_products(tx, product_name):\n",
    "    query = \"\"\"\n",
    "    MATCH (p1:Product {product_name: $product_name})\n",
    "    WITH p1\n",
    "    MATCH (p2:Product)\n",
    "    WHERE p1 <> p2 AND p2.product_name <> $product_name\n",
    "    WITH p1, p2,\n",
    "    gds.similarity.jaccard([p1.price, p1.product_rating, p1.categorical_numerical, \n",
    "    p1.discount_percentage, p1.num_rating], \n",
    "    [p2.price, p2.product_rating, p2.categorical_numerical, p2.discount_percentage, p2.num_rating]) \n",
    "    AS jaccard_similarity\n",
    "    ORDER BY jaccard_similarity DESC\n",
    "    RETURN DISTINCT p2.product_name, jaccard_similarity AS similarity\n",
    "    \"\"\"\n",
    "    result = tx.run(query, product_name=product_name)\n",
    "    return [{\"product_name\": record[\"p2.product_name\"], \"similarity\": record[\"similarity\"]} for record in result]\n"
   ]
  },
  {
   "cell_type": "code",
   "execution_count": 33,
   "id": "74977e09",
   "metadata": {},
   "outputs": [
    {
     "data": {
      "text/html": [
       "<div>\n",
       "<style scoped>\n",
       "    .dataframe tbody tr th:only-of-type {\n",
       "        vertical-align: middle;\n",
       "    }\n",
       "\n",
       "    .dataframe tbody tr th {\n",
       "        vertical-align: top;\n",
       "    }\n",
       "\n",
       "    .dataframe thead th {\n",
       "        text-align: right;\n",
       "    }\n",
       "</style>\n",
       "<table border=\"1\" class=\"dataframe\">\n",
       "  <thead>\n",
       "    <tr style=\"text-align: right;\">\n",
       "      <th></th>\n",
       "      <th>product_name</th>\n",
       "      <th>similarity</th>\n",
       "    </tr>\n",
       "  </thead>\n",
       "  <tbody>\n",
       "    <tr>\n",
       "      <th>0</th>\n",
       "      <td>MI Xiaomi 22.5W Fast USB Type C Charger Combo for</td>\n",
       "      <td>1.0</td>\n",
       "    </tr>\n",
       "    <tr>\n",
       "      <th>1</th>\n",
       "      <td>Sounce Spiral Charger Cable Protector Data Cab...</td>\n",
       "      <td>1.0</td>\n",
       "    </tr>\n",
       "    <tr>\n",
       "      <th>2</th>\n",
       "      <td>LAPSTER Spiral Charger Spiral Charger Cable Pr...</td>\n",
       "      <td>1.0</td>\n",
       "    </tr>\n",
       "    <tr>\n",
       "      <th>3</th>\n",
       "      <td>Lapster USB 3.0 sata Cable for 2.5 inch SSD and</td>\n",
       "      <td>1.0</td>\n",
       "    </tr>\n",
       "    <tr>\n",
       "      <th>4</th>\n",
       "      <td>Sounce Fast Phone Charging Cable &amp; Data Sync U...</td>\n",
       "      <td>1.0</td>\n",
       "    </tr>\n",
       "  </tbody>\n",
       "</table>\n",
       "</div>"
      ],
      "text/plain": [
       "                                        product_name  similarity\n",
       "0  MI Xiaomi 22.5W Fast USB Type C Charger Combo for         1.0\n",
       "1  Sounce Spiral Charger Cable Protector Data Cab...         1.0\n",
       "2  LAPSTER Spiral Charger Spiral Charger Cable Pr...         1.0\n",
       "3    Lapster USB 3.0 sata Cable for 2.5 inch SSD and         1.0\n",
       "4  Sounce Fast Phone Charging Cable & Data Sync U...         1.0"
      ]
     },
     "execution_count": 33,
     "metadata": {},
     "output_type": "execute_result"
    }
   ],
   "source": [
    "with driver.session() as session:\n",
    "    recommended_products = session.execute_write(recommend_products, product_name=\"Hp Wired On Ear Headphones With Mic With 3.5 Mm\")\n",
    "    df = pd.DataFrame(recommended_products)\n",
    "    df.drop_duplicates(subset=['product_name'], keep='first', inplace=True)\n",
    "df.head()"
   ]
  },
  {
   "cell_type": "markdown",
   "id": "7c6a6804",
   "metadata": {},
   "source": [
    "### Utilizing User Provided Input for Recommendations \n",
    "User can type in preferences and the engine will provide 5 recommendations based on the criteria specified. \n",
    "Categories of products available: \n",
    " - 1: 'Accessories',\n",
    " - 2: 'Accessories&Peripherals',\n",
    " - 3: 'Cameras&Photography',\n",
    " - 4: 'CarAccessories',\n",
    " - 5: 'Components',\n",
    " - 6: 'CraftMaterials',\n",
    " - 7: 'ExternalDevices&DataStorage',\n",
    " - 8: 'GeneralPurposeBatteries&BatteryChargers',\n",
    " - 9: 'Headphones,Earbuds&Accessories',\n",
    " - 10: 'Heating,Cooling&AirQuality',\n",
    " - 11: 'HomeAudio',\n",
    " - 12: 'HomeMedicalSupplies&Equipment',\n",
    " - 13: 'HomeTheater,TV&Video',\n",
    " - 14: 'Laptops',\n",
    " - 15: 'Mobiles&Accessories',\n",
    " - 16: 'Monitors',\n",
    " - 17: 'NetworkingDevices',\n",
    " - 18: 'PowerAccessories',\n",
    " - 19: 'Printers,Inks&Accessories',\n",
    " - 20: 'Tablets',\n",
    " - 21: 'WearableTechnology'"
   ]
  },
  {
   "cell_type": "code",
   "execution_count": null,
   "id": "fb78f5df",
   "metadata": {},
   "outputs": [],
   "source": [
    "cat_num = {1: 'Accessories',\n",
    " 2: 'Accessories&Peripherals',\n",
    " 3: 'Cameras&Photography',\n",
    " 4: 'CarAccessories',\n",
    " 5: 'Components',\n",
    " 6: 'CraftMaterials',\n",
    " 7: 'ExternalDevices&DataStorage',\n",
    " 8: 'GeneralPurposeBatteries&BatteryChargers',\n",
    " 9: 'Headphones,Earbuds&Accessories',\n",
    " 10: 'Heating,Cooling&AirQuality',\n",
    " 11: 'HomeAudio',\n",
    " 12: 'HomeMedicalSupplies&Equipment',\n",
    " 13: 'HomeTheater,TV&Video',\n",
    " 14: 'Laptops',\n",
    " 15: 'Mobiles&Accessories',\n",
    " 16: 'Monitors',\n",
    " 17: 'NetworkingDevices',\n",
    " 18: 'PowerAccessories',\n",
    " 19: 'Printers,Inks&Accessories',\n",
    " 20: 'Tablets',\n",
    " 21: 'WearableTechnology'}"
   ]
  },
  {
   "cell_type": "code",
   "execution_count": null,
   "id": "d090fb0a",
   "metadata": {},
   "outputs": [],
   "source": [
    "print(\"Welcome to the Amazon Product Recommender! \")\n",
    "print(\"For the questions, please enter only integers\")\n",
    "input_category_num = int(input(\"From the list above of Product Categories, What type of product are you interested in? \"))\n",
    "\n",
    "#convert the category num to the specified category\n",
    "input_cat = cat_num.get(input_category_num)\n",
    "\n",
    "#print to user, their selection\n",
    "print(\"You selected\", input_cat)\n",
    "\n",
    "# Get the encoded value of the user-specified category\n",
    "category = input_cat\n",
    "input_category_encoded = le.transform([category])[0]\n",
    "\n",
    "input_max_price = int(input(\"What is your maximum budget? \"))\n",
    "input_rating = int(input(\"What is the minimum number of stars you want for the product: \"))\n",
    "input_rating_count = int(input(\"What is the minumum number of ratings you want for the product: \"))\n"
   ]
  },
  {
   "cell_type": "code",
   "execution_count": null,
   "id": "090390c2",
   "metadata": {},
   "outputs": [],
   "source": []
  },
  {
   "cell_type": "code",
   "execution_count": null,
   "id": "d24d2779",
   "metadata": {},
   "outputs": [],
   "source": []
  },
  {
   "cell_type": "code",
   "execution_count": null,
   "id": "c0f31549",
   "metadata": {},
   "outputs": [],
   "source": []
  },
  {
   "cell_type": "code",
   "execution_count": null,
   "id": "1f5b1e52",
   "metadata": {},
   "outputs": [],
   "source": [
    "from neo4j import GraphDatabase\n",
    "\n",
    "# define the Cypher query with parameters for user input\n",
    "# uses categorical_numerical becuase Euclidean distance can only accept ints as parameters\n",
    "query = \"\"\"\n",
    "MATCH (inputProduct:Product)\n",
    "WHERE inputProduct.price <= $inputPrice \n",
    "AND inputProduct.rating >= $inputRating \n",
    "AND inputProduct.category_numerical = $inputCategory\n",
    "WITH inputProduct\n",
    "MATCH (similarProduct:Product)\n",
    "WHERE similarProduct.price <= $inputPrice \n",
    "AND similarProduct.rating >= $inputRating \n",
    "AND similarProduct.category_numerical = $inputCategory\n",
    "AND inputProduct <> similarProduct\n",
    "WITH inputProduct, similarProduct\n",
    "RETURN inputProduct, similarProduct, \n",
    "gds.similarity.euclideanDistance([inputProduct.price, inputProduct.rating, inputProduct.category_numerical,inputProduct.rating_count], \n",
    "[similarProduct.price, similarProduct.rating, similarProduct.category_numerical, inputProduct.rating_count]) \n",
    "AS similarity\n",
    "ORDER BY similarity DESC\n",
    "LIMIT 5\n",
    "\"\"\"\n"
   ]
  },
  {
   "cell_type": "code",
   "execution_count": null,
   "id": "7bf9d333",
   "metadata": {},
   "outputs": [],
   "source": [
    "#store results in a df \n",
    "# empty lists to store the data\n",
    "input_product_list = []\n",
    "input_product_price_list = []\n",
    "similar_product_list = []\n",
    "similar_product_price_list = []\n",
    "similarity_list = []\n",
    "\n",
    "\n",
    "# Execute the Cypher query with parameters\n",
    "with driver.session() as session:\n",
    "    result = session.run(query, inputPrice=input_max_price,\n",
    "                         inputRating=input_rating, \n",
    "                         inputRatingCount = input_rating_count, \n",
    "                         inputCategory = input_category_encoded)\n",
    "\n",
    "    # Process the query result\n",
    "    for record in result:\n",
    "        input_product = record[\"inputProduct\"][\"product_name\"]\n",
    "        input_product_price = record[\"inputProduct\"][\"price\"]\n",
    "        similar_product = record[\"similarProduct\"][\"product_name\"]\n",
    "        similar_product_price = record[\"similarProduct\"][\"price\"]\n",
    "        similarity = record[\"similarity\"]\n",
    "        \n",
    "        #remove duplicate input products\n",
    "        #Check if input_product already exists in the list\n",
    "        if (input_product not in input_product_list) and (input_product not in similar_product_list):\n",
    "            # Append the data to the respective lists\n",
    "            input_product_list.append(input_product)\n",
    "            similar_product_list.append(similar_product)\n",
    "            input_product_price_list.append(input_product_price)\n",
    "            similar_product_price_list.append(similar_product_price)\n",
    "\n",
    "        \n",
    "        # Process the results as needed, e.g., display or store recommendations\n",
    "        print(f\"Input Product: {input_product}, Similar Product: {similar_product}, Similarity: {similarity}\")\n",
    "\n",
    "        \n",
    "# Check if all lists have the same length\n",
    "if len(input_product_list) == len(similar_product_list) == len(input_product_price_list) == len(similar_product_price_list) == len(similarity_list):\n",
    "    # Create a DataFrame from the lists\n",
    "    df = pd.DataFrame({\n",
    "        \"Input Product\": input_product_list,\n",
    "        \"Input Product Price\" : input_product_price_list, \n",
    "        \"Similar Product\": similar_product_list,\n",
    "        \"Sample Product Price\" : similar_product_price_list,\n",
    "        \"Similarity\": similarity_list\n",
    "    })\n",
    "    print(df)\n",
    "else:\n",
    "    print(\"Error: All lists must have the same length\")\n",
    "\n",
    "# # Create a DataFrame from the lists\n",
    "# df = pd.DataFrame({\n",
    "#     \"Input Product\": input_product_list,\n",
    "#     \"Input Product Price\" : input_product_price_list, \n",
    "#     \"Similar Product\": similar_product_list,\n",
    "#     \"Sample Product Price\" : similar_product_price_list,\n",
    "#     \"Similarity\": similarity_list\n",
    "# })"
   ]
  },
  {
   "cell_type": "code",
   "execution_count": null,
   "id": "352d1dde",
   "metadata": {},
   "outputs": [],
   "source": [
    "display(df)"
   ]
  },
  {
   "cell_type": "code",
   "execution_count": null,
   "id": "8a982cc5",
   "metadata": {},
   "outputs": [],
   "source": [
    "# Close the Neo4j driver connection\n",
    "# driver.close()\n"
   ]
  },
  {
   "cell_type": "markdown",
   "id": "d7861be1",
   "metadata": {},
   "source": [
    "# TODO: \n",
    "- recommendtions DF not returning anything\n",
    "- evaluation of recommendations \n",
    "- visualze the graph\n",
    "- test on a user (?)\n",
    "- make interactive way of letting user enter data "
   ]
  },
  {
   "cell_type": "code",
   "execution_count": null,
   "id": "ff8cf77b",
   "metadata": {},
   "outputs": [],
   "source": []
  }
 ],
 "metadata": {
  "kernelspec": {
   "display_name": "Python 3 (ipykernel)",
   "language": "python",
   "name": "python3"
  },
  "language_info": {
   "codemirror_mode": {
    "name": "ipython",
    "version": 3
   },
   "file_extension": ".py",
   "mimetype": "text/x-python",
   "name": "python",
   "nbconvert_exporter": "python",
   "pygments_lexer": "ipython3",
   "version": "3.9.13"
  }
 },
 "nbformat": 4,
 "nbformat_minor": 5
}
