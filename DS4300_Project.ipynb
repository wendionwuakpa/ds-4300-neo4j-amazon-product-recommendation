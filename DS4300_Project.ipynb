{
 "cells": [
  {
   "cell_type": "markdown",
   "id": "ca1c932a",
   "metadata": {},
   "source": [
    "##  Consumer Oriented Amazon Product Recommendation Engine"
   ]
  },
  {
   "cell_type": "code",
   "execution_count": 1,
   "id": "d45d014c",
   "metadata": {},
   "outputs": [],
   "source": [
    "import pandas as pd\n",
    "import numpy as np\n",
    "from neo4j import GraphDatabase\n",
    "import csv"
   ]
  },
  {
   "cell_type": "code",
   "execution_count": 2,
   "id": "4c3be56c",
   "metadata": {},
   "outputs": [],
   "source": [
    "df = pd.read_csv('amazon.csv')"
   ]
  },
  {
   "cell_type": "code",
   "execution_count": null,
   "id": "ebc01c71",
   "metadata": {},
   "outputs": [],
   "source": []
  },
  {
   "cell_type": "markdown",
   "id": "8b740183",
   "metadata": {},
   "source": [
    "### Data Cleaning\n",
    "- Limit the dataset to 1000 entries for faster processing\n",
    "- Convert necessary string column types like price, discount_price to float\n",
    "- Drop unneeded columns like product link and image link\n",
    "- Assign categorical value to Category column of dataframe\n",
    "- Convert non-dollar currencies to dollar values\n",
    "- Limit the number of words in each Amazon product name to 10"
   ]
  },
  {
   "cell_type": "code",
   "execution_count": 3,
   "id": "8bfb9bd0",
   "metadata": {},
   "outputs": [],
   "source": [
    "df = df[df['rating_count'] != '1+H9280443']"
   ]
  },
  {
   "cell_type": "code",
   "execution_count": 4,
   "id": "6df54064",
   "metadata": {},
   "outputs": [
    {
     "data": {
      "text/plain": [
       "0      Reffair AX30 [MAX] Portable Air Purifier for C...\n",
       "1           rts [2 Pack] Mini USB C Type C Adapter Plug,\n",
       "2            Kanget [2 Pack] Type C Female to USB A Male\n",
       "3        Hp Wired On Ear Headphones With Mic With 3.5 Mm\n",
       "4      JBL Commercial CSLM20B Auxiliary Omnidirection...\n",
       "                             ...                        \n",
       "992    Havells Ambrose 1200mm Ceiling Fan (Gold Mist ...\n",
       "993              Bajaj Frore 1200 mm Ceiling Fan (Brown)\n",
       "994    Crompton Sea Sapphira 1200 mm Ultra High Speed...\n",
       "995    Havells Glaze 74W Pearl Ivory Gold Ceiling Fan...\n",
       "996    Crompton Hill Briz Deco 1200mm (48 inch) High ...\n",
       "Name: product_name, Length: 997, dtype: object"
      ]
     },
     "execution_count": 4,
     "metadata": {},
     "output_type": "execute_result"
    }
   ],
   "source": [
    "#strip the product name to three words \n",
    "df['product_name'] = df['product_name'].str.split().str[:10].str.join(' ')\n",
    "df['product_name']"
   ]
  },
  {
   "cell_type": "code",
   "execution_count": 5,
   "id": "72d8d483",
   "metadata": {},
   "outputs": [],
   "source": [
    "# # Split the values in the 'category' column by '|'\n",
    "# df['new_category'] = df['category'].str.split('|')\n",
    "\n",
    "# # Extract the first two parts and join them back with '|'\n",
    "# df['new_category'] = df['new_category'].apply(lambda x: ' | '.join(x[:2]))\n",
    "# set(df['new_category'])"
   ]
  },
  {
   "cell_type": "code",
   "execution_count": 6,
   "id": "d61ebd32",
   "metadata": {},
   "outputs": [
    {
     "data": {
      "text/plain": [
       "{'Car&Motorbike',\n",
       " 'Computers&Accessories',\n",
       " 'Electronics',\n",
       " 'Health&PersonalCare',\n",
       " 'Home&Kitchen'}"
      ]
     },
     "execution_count": 6,
     "metadata": {},
     "output_type": "execute_result"
    }
   ],
   "source": [
    "#add a more general category \n",
    "df['general_cat'] = df['category'].str.split('|', n=2).str[0]\n",
    "set(df['general_cat'])"
   ]
  },
  {
   "cell_type": "code",
   "execution_count": 7,
   "id": "f42e96e1",
   "metadata": {},
   "outputs": [],
   "source": [
    "#add new column to assign numbers to categorical data using encoding\n",
    "from sklearn.preprocessing import LabelEncoder \n",
    "\n",
    "# instance of LabelEncoder\n",
    "le = LabelEncoder()\n",
    "\n",
    "# fit and transform the categorical column to numerical values\n",
    "df['category_numerical'] = le.fit_transform(df['general_cat'])"
   ]
  },
  {
   "cell_type": "code",
   "execution_count": 8,
   "id": "8cd5e798",
   "metadata": {},
   "outputs": [],
   "source": [
    "#save the updates to the new csv\n",
    "df.to_csv('amazon.csv')\n"
   ]
  },
  {
   "cell_type": "code",
   "execution_count": 9,
   "id": "5fcc43eb",
   "metadata": {},
   "outputs": [],
   "source": [
    "# Establish a connection to Neo4j database\n",
    "uri = \"bolt://localhost:7687\"\n",
    "username = \"neo4j\"\n",
    "password = \"password\"\n",
    "driver = GraphDatabase.driver(uri, auth=(username, password)) "
   ]
  },
  {
   "cell_type": "markdown",
   "id": "ff4037b1",
   "metadata": {},
   "source": [
    "### Product Node Creation\n"
   ]
  },
  {
   "cell_type": "code",
   "execution_count": 10,
   "id": "a60ee629",
   "metadata": {},
   "outputs": [],
   "source": [
    "# Create a product node in Neo4j\n",
    "def create_product(tx, product):\n",
    "    query = \"\"\"\n",
    "    CREATE (p:Product {product_name: $product_name, product_id : $product_id, price: $price, rating: $rating, \n",
    "    category: $category, discount_percentage: $discount_percentage, \n",
    "    review_title: $review_title, discounted_price: $discounted_price, \n",
    "    general_cat : $general_cat, img_link : $img_link,\n",
    "    rating_count : $rating_count,\n",
    "    category_numerical : $category_numerical})\n",
    "    \"\"\"\n",
    "    tx.run(query, product_name=product['product_name'], \n",
    "           product_id = product['product_id'], \n",
    "           price=product['price'], \n",
    "           rating=product['rating'], \n",
    "           rating_count = product['rating_count'],\n",
    "           category=product['category'], \n",
    "           discount_percentage=product['discount_percentage'],\n",
    "           general_cat = product['general_cat'],\n",
    "           review_title=product['review_title'], \n",
    "           discounted_price=product['discounted_price'], \n",
    "           img_link = product['img_link'],\n",
    "           category_numerical = product['category_numerical']\n",
    "          )\n"
   ]
  },
  {
   "cell_type": "code",
   "execution_count": 11,
   "id": "211cf349",
   "metadata": {},
   "outputs": [],
   "source": [
    "# read the Amazon product data from CSV file\n",
    "def read_product_data_from_csv(file_path):\n",
    "    products = []\n",
    "    with open(file_path, newline='') as csvfile:\n",
    "        reader = csv.DictReader(csvfile)\n",
    "        for row in reader:\n",
    "            product = {\n",
    "                'product_name': row['product_name'],\n",
    "                'price': float(row['price']),\n",
    "                'rating': float(row['rating']),\n",
    "                'category': row['category'],\n",
    "                'discount_percentage': float(row['discount_percentage']),\n",
    "                'review_title': row['review_title'],\n",
    "                'discounted_price': float(row['discounted_price']),\n",
    "                'general_cat': row['general_cat'],\n",
    "                'product_id': row['product_id'],\n",
    "                'img_link': row['img_link'],\n",
    "                'rating_count': int(row['rating_count']),\n",
    "                'category_numerical' : int(row['category_numerical'])\n",
    "            }\n",
    "            products.append(product)\n",
    "    return products"
   ]
  },
  {
   "cell_type": "code",
   "execution_count": 12,
   "id": "bfd2e500",
   "metadata": {},
   "outputs": [],
   "source": [
    "# Amazon CSV file path\n",
    "csv_file = 'amazon.csv'\n",
    "\n",
    "# call create product nodes in Neo4j to make the nodes\n",
    "with driver.session() as session:\n",
    "    products = read_product_data_from_csv(csv_file)\n",
    "    for product in products:\n",
    "        session.execute_write(create_product, product)"
   ]
  },
  {
   "cell_type": "code",
   "execution_count": 13,
   "id": "f560419d",
   "metadata": {},
   "outputs": [],
   "source": [
    "# Create an edge between two products in Neo4j\n",
    "def create_edge(tx, product1, product2):\n",
    "    query = \"\"\"\n",
    "    MATCH (p1:Product {product_name: $product_name_1})\n",
    "    MATCH (p2:Product {product_name: $product_name_2})\n",
    "    WHERE p1 <> p2\n",
    "    CREATE (p1)-[:SIMILAR]->(p2)\n",
    "    \"\"\"\n",
    "    tx.run(query, product_name_1=product1['product_name'], product_name_2=product2['product_name'])"
   ]
  },
  {
   "cell_type": "markdown",
   "id": "67aed9c1",
   "metadata": {},
   "source": [
    "### Edge creation: \n",
    "Egdes between two Nodes are determined on certain criteria made using certain Node properties; product category, product price, product rating, and product discount percentage "
   ]
  },
  {
   "cell_type": "code",
   "execution_count": 14,
   "id": "1acdfad1",
   "metadata": {},
   "outputs": [],
   "source": [
    "with driver.session() as session:        \n",
    "    # Create edges between products based on criteria\n",
    "    for i in range(len(products)):\n",
    "        for j in range(i + 1, len(products)):\n",
    "            product1 = products[i]\n",
    "            product2 = products[j]\n",
    "\n",
    "            # Check criteria for creating edge\n",
    "            if (product1['category'] == product2['category'] and\n",
    "                    (product1['category_numerical'] == product2['category_numerical']) and\n",
    "                    abs(product1['price'] - product2['price']) <= 10 and\n",
    "                    product1['rating'] == product2['rating'] and\n",
    "                    abs(product1['discount_percentage'] - product2['discount_percentage']) <= 0.1):\n",
    "                session.execute_write(create_edge, product1, product2)\n"
   ]
  },
  {
   "cell_type": "code",
   "execution_count": 15,
   "id": "a029aa1f",
   "metadata": {},
   "outputs": [],
   "source": [
    "#delete some edges in neo4j\n",
    "\n",
    "# MATCH ()-[r]->()\n",
    "# WITH r LIMIT 10000\n",
    "# DELETE r\n"
   ]
  },
  {
   "cell_type": "markdown",
   "id": "7c6a6804",
   "metadata": {},
   "source": [
    "### Utilizing User Provided Input for Recommendations \n",
    "User can type in preferences and the engine will provide 5 recommendations based on the criteria specified. \n",
    "Categories of products available: \n",
    "1. 'Car & Motorbike',\n",
    "2. 'Computers & Accessories',\n",
    "3. 'Electronics',\n",
    "4. 'Health & PersonalCare',\n",
    "5. 'Home & Kitchen'"
   ]
  },
  {
   "cell_type": "code",
   "execution_count": 16,
   "id": "fb78f5df",
   "metadata": {},
   "outputs": [],
   "source": [
    "cat_num = {1: 'Car&Motorbike',\n",
    " 2: 'Computers&Accessories',\n",
    " 3: 'Electronics',\n",
    " 4: 'Health&PersonalCare',\n",
    " 5: 'Home&Kitchen'}"
   ]
  },
  {
   "cell_type": "code",
   "execution_count": 17,
   "id": "d090fb0a",
   "metadata": {},
   "outputs": [
    {
     "name": "stdout",
     "output_type": "stream",
     "text": [
      "Welcome to the Amazon Product Recommender! \n",
      "For the questions, please enter only integers\n",
      "From the list above of Product Categories, What type of product are you interested in? 2\n",
      "You selected Computers&Accessories\n",
      "What is your maximum budget? 20\n",
      "What is the minimum number of stars you want for the product: 3\n",
      "What is the minumum number of ratings you want for the product: 200\n"
     ]
    }
   ],
   "source": [
    "print(\"Welcome to the Amazon Product Recommender! \")\n",
    "print(\"For the questions, please enter only integers\")\n",
    "input_category_num = int(input(\"From the list above of Product Categories, What type of product are you interested in? \"))\n",
    "\n",
    "#convert the category num to the specified category\n",
    "input_cat = cat_num.get(input_category_num)\n",
    "\n",
    "#print to user, their selection\n",
    "print(\"You selected\", input_cat)\n",
    "\n",
    "# Get the encoded value of the user-specified category\n",
    "category = input_cat\n",
    "input_category_encoded = le.transform([category])[0]\n",
    "\n",
    "input_max_price = int(input(\"What is your maximum budget? \"))\n",
    "input_rating = int(input(\"What is the minimum number of stars you want for the product: \"))\n",
    "input_rating_count = int(input(\"What is the minumum number of ratings you want for the product: \"))\n"
   ]
  },
  {
   "cell_type": "code",
   "execution_count": 18,
   "id": "3c2e879e",
   "metadata": {},
   "outputs": [],
   "source": [
    "# query = \"\"\"\n",
    "# MATCH (inputProduct:Product)\n",
    "# WHERE inputProduct.price <= $inputPrice \n",
    "# AND inputProduct.rating >= $inputRating \n",
    "# AND inputProduct.category_numerical = $inputCategory\n",
    "# WITH inputProduct\n",
    "# MATCH (similarProduct:Product)\n",
    "# WHERE similarProduct.price <= $inputPrice \n",
    "# AND similarProduct.rating >= $inputRating \n",
    "# AND similarProduct.category_numerical = $inputCategory\n",
    "# AND inputProduct <> similarProduct\n",
    "# WITH inputProduct, similarProduct\n",
    "# RETURN DISTINCT inputProduct.product_name AS inputProductName, \n",
    "#        similarProduct.product_name AS similarProductName,\n",
    "#        gds.similarity.euclideanDistance([inputProduct.price, inputProduct.rating, inputProduct.category_numerical, inputProduct.rating_count], \n",
    "#                                         [similarProduct.price, similarProduct.rating, similarProduct.category_numerical, inputProduct.rating_count]) \n",
    "#        AS similarity\n",
    "# ORDER BY similarity DESC\n",
    "# LIMIT 5\n",
    "# \"\"\""
   ]
  },
  {
   "cell_type": "code",
   "execution_count": 30,
   "id": "1f5b1e52",
   "metadata": {},
   "outputs": [],
   "source": [
    "from neo4j import GraphDatabase\n",
    "\n",
    "# define the Cypher query with parameters for user input\n",
    "# uses categorical_numerical becuase Euclidean distance can only accept ints as parameters\n",
    "query = \"\"\"\n",
    "MATCH (inputProduct:Product)\n",
    "WHERE inputProduct.price <= $inputPrice \n",
    "AND inputProduct.rating >= $inputRating \n",
    "AND inputProduct.category_numerical = $inputCategory\n",
    "WITH inputProduct\n",
    "MATCH (similarProduct:Product)\n",
    "WHERE similarProduct.price <= $inputPrice \n",
    "AND similarProduct.rating >= $inputRating \n",
    "AND similarProduct.category_numerical = $inputCategory\n",
    "AND inputProduct <> similarProduct\n",
    "WITH inputProduct, similarProduct\n",
    "RETURN inputProduct, similarProduct, \n",
    "gds.similarity.euclideanDistance([inputProduct.price, inputProduct.rating, inputProduct.category_numerical,inputProduct.rating_count], \n",
    "[similarProduct.price, similarProduct.rating, similarProduct.category_numerical, inputProduct.rating_count]) \n",
    "AS similarity\n",
    "ORDER BY similarity DESC\n",
    "LIMIT 5\n",
    "\"\"\"\n"
   ]
  },
  {
   "cell_type": "code",
   "execution_count": 33,
   "id": "7bf9d333",
   "metadata": {},
   "outputs": [
    {
     "name": "stdout",
     "output_type": "stream",
     "text": [
      "Input Product: SanDisk Ultra 64 GB USB Pen Drives (SDDDC2-064G-I35, Black, Silver), Similar Product: Inventis 5V 1.2W Portable Flexible USB LED Light Lamp (Colors, Similarity: 19.34267044645077\n",
      "Input Product: Inventis 5V 1.2W Portable Flexible USB LED Light Lamp (Colors, Similar Product: SanDisk Ultra 64 GB USB Pen Drives (SDDDC2-064G-I35, Black, Silver), Similarity: 19.34267044645077\n",
      "Input Product: E-COSMOS 5V 1.2W Portable Flexible USB LED Light (Colours May, Similar Product: SanDisk Ultra 64 GB USB Pen Drives (SDDDC2-064G-I35, Black, Silver), Similarity: 19.33646555087046\n",
      "Input Product: SanDisk Ultra 64 GB USB Pen Drives (SDDDC2-064G-I35, Black, Silver), Similar Product: E-COSMOS 5V 1.2W Portable Flexible USB LED Light (Colours May, Similarity: 19.33646555087046\n",
      "Input Product: Logitech M331 Silent Plus Wireless Mouse, 2.4GHz with USB Nano, Similar Product: Inventis 5V 1.2W Portable Flexible USB LED Light Lamp (Colors, Similarity: 19.29592962259139\n",
      "Error: All lists must have the same length\n"
     ]
    }
   ],
   "source": [
    "#store results in a df \n",
    "# empty lists to store the data\n",
    "input_product_list = []\n",
    "input_product_price_list = []\n",
    "similar_product_list = []\n",
    "similar_product_price_list = []\n",
    "similarity_list = []\n",
    "\n",
    "\n",
    "# Execute the Cypher query with parameters\n",
    "with driver.session() as session:\n",
    "    result = session.run(query, inputPrice=input_max_price,\n",
    "                         inputRating=input_rating, \n",
    "                         inputRatingCount = input_rating_count, \n",
    "                         inputCategory = input_category_encoded)\n",
    "\n",
    "    # Process the query result\n",
    "    for record in result:\n",
    "        input_product = record[\"inputProduct\"][\"product_name\"]\n",
    "        input_product_price = record[\"inputProduct\"][\"price\"]\n",
    "        similar_product = record[\"similarProduct\"][\"product_name\"]\n",
    "        similar_product_price = record[\"similarProduct\"][\"price\"]\n",
    "        similarity = record[\"similarity\"]\n",
    "        \n",
    "        #remove duplicate input products\n",
    "        #Check if input_product already exists in the list\n",
    "        if (input_product not in input_product_list) and (input_product not in similar_product_list):\n",
    "            # Append the data to the respective lists\n",
    "            input_product_list.append(input_product)\n",
    "            similar_product_list.append(similar_product)\n",
    "            input_product_price_list.append(input_product_price)\n",
    "            similar_product_price_list.append(similar_product_price)\n",
    "\n",
    "        \n",
    "        # Process the results as needed, e.g., display or store recommendations\n",
    "        print(f\"Input Product: {input_product}, Similar Product: {similar_product}, Similarity: {similarity}\")\n",
    "\n",
    "        \n",
    "# Check if all lists have the same length\n",
    "if len(input_product_list) == len(similar_product_list) == len(input_product_price_list) == len(similar_product_price_list) == len(similarity_list):\n",
    "    # Create a DataFrame from the lists\n",
    "    df = pd.DataFrame({\n",
    "        \"Input Product\": input_product_list,\n",
    "        \"Input Product Price\" : input_product_price_list, \n",
    "        \"Similar Product\": similar_product_list,\n",
    "        \"Sample Product Price\" : similar_product_price_list,\n",
    "        \"Similarity\": similarity_list\n",
    "    })\n",
    "    print(df)\n",
    "else:\n",
    "    print(\"Error: All lists must have the same length\")\n",
    "\n",
    "# # Create a DataFrame from the lists\n",
    "# df = pd.DataFrame({\n",
    "#     \"Input Product\": input_product_list,\n",
    "#     \"Input Product Price\" : input_product_price_list, \n",
    "#     \"Similar Product\": similar_product_list,\n",
    "#     \"Sample Product Price\" : similar_product_price_list,\n",
    "#     \"Similarity\": similarity_list\n",
    "# })"
   ]
  },
  {
   "cell_type": "code",
   "execution_count": 34,
   "id": "352d1dde",
   "metadata": {},
   "outputs": [
    {
     "data": {
      "text/html": [
       "<div>\n",
       "<style scoped>\n",
       "    .dataframe tbody tr th:only-of-type {\n",
       "        vertical-align: middle;\n",
       "    }\n",
       "\n",
       "    .dataframe tbody tr th {\n",
       "        vertical-align: top;\n",
       "    }\n",
       "\n",
       "    .dataframe thead th {\n",
       "        text-align: right;\n",
       "    }\n",
       "</style>\n",
       "<table border=\"1\" class=\"dataframe\">\n",
       "  <thead>\n",
       "    <tr style=\"text-align: right;\">\n",
       "      <th></th>\n",
       "      <th>Input Product</th>\n",
       "      <th>Input Product Price</th>\n",
       "      <th>Similar Product</th>\n",
       "      <th>Sample Product Price</th>\n",
       "      <th>Similarity</th>\n",
       "    </tr>\n",
       "  </thead>\n",
       "  <tbody>\n",
       "    <tr>\n",
       "      <th>0</th>\n",
       "      <td>Inventis 5V 1.2W Portable Flexible USB LED Lig...</td>\n",
       "      <td>0.47</td>\n",
       "      <td>SanDisk Ultra 64 GB USB Pen Drives (SDDDC2-064...</td>\n",
       "      <td>19.80</td>\n",
       "      <td>19.342670</td>\n",
       "    </tr>\n",
       "    <tr>\n",
       "      <th>1</th>\n",
       "      <td>SanDisk Ultra 64 GB USB Pen Drives (SDDDC2-064...</td>\n",
       "      <td>19.80</td>\n",
       "      <td>Inventis 5V 1.2W Portable Flexible USB LED Lig...</td>\n",
       "      <td>0.47</td>\n",
       "      <td>19.342670</td>\n",
       "    </tr>\n",
       "    <tr>\n",
       "      <th>2</th>\n",
       "      <td>E-COSMOS 5V 1.2W Portable Flexible USB LED Lig...</td>\n",
       "      <td>0.47</td>\n",
       "      <td>SanDisk Ultra 64 GB USB Pen Drives (SDDDC2-064...</td>\n",
       "      <td>19.80</td>\n",
       "      <td>19.336466</td>\n",
       "    </tr>\n",
       "    <tr>\n",
       "      <th>3</th>\n",
       "      <td>Logitech M331 Silent Plus Wireless Mouse, 2.4G...</td>\n",
       "      <td>19.74</td>\n",
       "      <td>Inventis 5V 1.2W Portable Flexible USB LED Lig...</td>\n",
       "      <td>0.47</td>\n",
       "      <td>19.295930</td>\n",
       "    </tr>\n",
       "    <tr>\n",
       "      <th>4</th>\n",
       "      <td>E-COSMOS 5V 1.2W Portable Flexible USB LED Lig...</td>\n",
       "      <td>0.71</td>\n",
       "      <td>SanDisk Ultra 64 GB USB Pen Drives (SDDDC2-064...</td>\n",
       "      <td>19.80</td>\n",
       "      <td>19.096547</td>\n",
       "    </tr>\n",
       "    <tr>\n",
       "      <th>5</th>\n",
       "      <td>AmazonBasics Double Braided Nylon USB Type-C t...</td>\n",
       "      <td>19.20</td>\n",
       "      <td>Inventis 5V 1.2W Portable Flexible USB LED Lig...</td>\n",
       "      <td>0.47</td>\n",
       "      <td>18.743076</td>\n",
       "    </tr>\n",
       "    <tr>\n",
       "      <th>6</th>\n",
       "      <td>ESR Screen Protector Compatible with iPad Pro ...</td>\n",
       "      <td>19.19</td>\n",
       "      <td>Inventis 5V 1.2W Portable Flexible USB LED Lig...</td>\n",
       "      <td>0.47</td>\n",
       "      <td>18.741622</td>\n",
       "    </tr>\n",
       "  </tbody>\n",
       "</table>\n",
       "</div>"
      ],
      "text/plain": [
       "                                       Input Product  Input Product Price  \\\n",
       "0  Inventis 5V 1.2W Portable Flexible USB LED Lig...                 0.47   \n",
       "1  SanDisk Ultra 64 GB USB Pen Drives (SDDDC2-064...                19.80   \n",
       "2  E-COSMOS 5V 1.2W Portable Flexible USB LED Lig...                 0.47   \n",
       "3  Logitech M331 Silent Plus Wireless Mouse, 2.4G...                19.74   \n",
       "4  E-COSMOS 5V 1.2W Portable Flexible USB LED Lig...                 0.71   \n",
       "5  AmazonBasics Double Braided Nylon USB Type-C t...                19.20   \n",
       "6  ESR Screen Protector Compatible with iPad Pro ...                19.19   \n",
       "\n",
       "                                     Similar Product  Sample Product Price  \\\n",
       "0  SanDisk Ultra 64 GB USB Pen Drives (SDDDC2-064...                 19.80   \n",
       "1  Inventis 5V 1.2W Portable Flexible USB LED Lig...                  0.47   \n",
       "2  SanDisk Ultra 64 GB USB Pen Drives (SDDDC2-064...                 19.80   \n",
       "3  Inventis 5V 1.2W Portable Flexible USB LED Lig...                  0.47   \n",
       "4  SanDisk Ultra 64 GB USB Pen Drives (SDDDC2-064...                 19.80   \n",
       "5  Inventis 5V 1.2W Portable Flexible USB LED Lig...                  0.47   \n",
       "6  Inventis 5V 1.2W Portable Flexible USB LED Lig...                  0.47   \n",
       "\n",
       "   Similarity  \n",
       "0   19.342670  \n",
       "1   19.342670  \n",
       "2   19.336466  \n",
       "3   19.295930  \n",
       "4   19.096547  \n",
       "5   18.743076  \n",
       "6   18.741622  "
      ]
     },
     "metadata": {},
     "output_type": "display_data"
    }
   ],
   "source": [
    "display(df)"
   ]
  },
  {
   "cell_type": "code",
   "execution_count": 22,
   "id": "8a982cc5",
   "metadata": {},
   "outputs": [],
   "source": [
    "# Close the Neo4j driver connection\n",
    "# driver.close()\n"
   ]
  },
  {
   "cell_type": "markdown",
   "id": "d7861be1",
   "metadata": {},
   "source": [
    "# TODO: \n",
    "- recommendtions DF not returning anything\n",
    "- evaluation of recommendations \n",
    "- visualze the graph\n",
    "- test on a user (?)\n",
    "- make interactive way of letting user enter data "
   ]
  },
  {
   "cell_type": "code",
   "execution_count": null,
   "id": "ff8cf77b",
   "metadata": {},
   "outputs": [],
   "source": []
  }
 ],
 "metadata": {
  "kernelspec": {
   "display_name": "Python 3 (ipykernel)",
   "language": "python",
   "name": "python3"
  },
  "language_info": {
   "codemirror_mode": {
    "name": "ipython",
    "version": 3
   },
   "file_extension": ".py",
   "mimetype": "text/x-python",
   "name": "python",
   "nbconvert_exporter": "python",
   "pygments_lexer": "ipython3",
   "version": "3.9.12"
  }
 },
 "nbformat": 4,
 "nbformat_minor": 5
}
