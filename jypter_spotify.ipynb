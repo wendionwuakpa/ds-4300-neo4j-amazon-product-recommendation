{
 "cells": [
  {
   "cell_type": "code",
   "execution_count": 10,
   "id": "355bd3f3",
   "metadata": {},
   "outputs": [],
   "source": [
    "from neo4j import GraphDatabase\n",
    "import pandas as pd\n",
    "import numpy as np\n",
    "\n",
    "uri = \"bolt://localhost:7687\"\n",
    "username = \"neo4j\"\n",
    "password = \"password\"\n",
    "driver = GraphDatabase.driver(uri, auth=(username, password))\n",
    "\n",
    "# Read the Spotify data\n",
    "spotify_data = pd.read_csv(\"spotify.csv\")\n",
    "\n",
    "# Filter the data set to only include the three Regina Spektor songs\n",
    "regina_songs = ['The Call', 'Two Birds', 'Samson']\n",
    "regina_data = spotify_data[spotify_data['track_name'].isin(regina_songs)]\n",
    "\n",
    "# Sample the remaining songs from the dataset\n",
    "sample_size = 1000\n",
    "remaining_data = spotify_data[-spotify_data['track_name'].isin(regina_songs)]\n",
    "sample_data = remaining_data.sample(n=min(sample_size, len(remaining_data)), replace=False)\n",
    "\n",
    "# Combine the Regina Spektor songs with the sampled data\n",
    "sample_data = pd.concat([sample_data, regina_data])\n",
    "\n",
    "# Create the graph database\n",
    "with driver.session() as session:\n",
    "    # Create nodes for each song and their properties\n",
    "    for index, row in sample_data.iterrows():\n",
    "        query = \"CREATE (:Song {name: $name, artist: $artist, danceability: $danceability, energy: $energy, loudness: $loudness, acousticness: $acousticness, instrumentalness: $instrumentalness, liveness: $liveness, tempo: $tempo, valence: $valence, genre: $genre})\"\n",
    "        session.run(query, name=row['track_name'], artist=row['artists'], danceability=row['danceability'], energy=row['energy'], loudness=row['loudness'], acousticness=row['acousticness'], instrumentalness=row['instrumentalness'], liveness=row['liveness'], tempo=row['tempo'], valence=row['valence'], genre=row['track_genre'])\n",
    "\n",
    "    # Connect similar songs via edges\n",
    "    for index1, row1 in sample_data.iterrows():\n",
    "        for index2, row2 in sample_data.iterrows():\n",
    "            if index1 != index2:\n",
    "                distance = np.linalg.norm(row1[['danceability', 'energy', 'loudness', 'acousticness', 'instrumentalness', 'liveness', 'tempo', 'valence']] - row2[['danceability', 'energy', 'loudness', 'acousticness', 'instrumentalness', 'liveness', 'tempo', 'valence']])\n",
    "                if distance < 2:\n",
    "                    query = \"MATCH (s1:Song {name: $name1}), (s2:Song {name: $name2}) CREATE (s1)-[:SIMILAR_TO {distance: $distance}]->(s2)\"\n",
    "                    session.run(query, name1=row1['track_name'], name2=row2['track_name'], distance=distance)\n"
   ]
  },
  {
   "cell_type": "code",
   "execution_count": 16,
   "id": "d38a1731",
   "metadata": {},
   "outputs": [
    {
     "name": "stdout",
     "output_type": "stream",
     "text": [
      "Song Recommendations:\n",
      "Super Freak by Rick James (Similarity Score: 1.9998579856002277)\n",
      "Absurdity by Iron Lung (Similarity Score: 1.9998579856002277)\n",
      "Kaagaz Ki Naav by Last Minute India (Similarity Score: 1.9997891924593336)\n",
      "Yo Perreo Sola by Bad Bunny (Similarity Score: 1.9997891924593336)\n",
      "誰よりも高く跳べ! by Keyakizaka46 (Similarity Score: 1.9997546273480589)\n"
     ]
    }
   ],
   "source": [
    "# Generate FIVE song recommendations for Professor Rachlin based on his liking of Regina Spektor songs\n",
    "with driver.session() as session:\n",
    "    # Find songs that are similar to Regina Spektor songs but exclude Regina Spektor songs\n",
    "    query = \"\"\"\n",
    "    MATCH (s1:Song)-[r:SIMILAR_TO]->(s2:Song)\n",
    "    WHERE s1.artist <> 'Regina Spektor' AND s1.name <> 'The Call' AND s1.name <> 'Two Birds' AND s1.name <> 'Samson'\n",
    "    AND NOT s2.name IN ['The Call', 'Two Birds', 'Samson'] AND s2.artist <> 'Regina Spektor'\n",
    "    RETURN DISTINCT s2.name AS song_name, s2.artist AS artist_name, r.distance AS similarity_score\n",
    "    ORDER BY similarity_score DESC\n",
    "    LIMIT 5\n",
    "    \"\"\"\n",
    "    result = session.run(query)\n",
    "\n",
    "    # Print the recommended songs\n",
    "    print(\"Song Recommendations:\")\n",
    "    for record in result:\n",
    "        print(f\"{record['song_name']} by {record['artist_name']} (Similarity Score: {record['similarity_score']})\")"
   ]
  },
  {
   "cell_type": "code",
   "execution_count": null,
   "id": "b8582e59",
   "metadata": {},
   "outputs": [],
   "source": []
  }
 ],
 "metadata": {
  "kernelspec": {
   "display_name": "Python 3 (ipykernel)",
   "language": "python",
   "name": "python3"
  },
  "language_info": {
   "codemirror_mode": {
    "name": "ipython",
    "version": 3
   },
   "file_extension": ".py",
   "mimetype": "text/x-python",
   "name": "python",
   "nbconvert_exporter": "python",
   "pygments_lexer": "ipython3",
   "version": "3.9.13"
  }
 },
 "nbformat": 4,
 "nbformat_minor": 5
}
