{
 "cells": [
  {
   "cell_type": "code",
   "execution_count": 1,
   "id": "a3fcc9ce",
   "metadata": {},
   "outputs": [],
   "source": [
    "from neo4j import GraphDatabase\n",
    "import pandas as pd\n",
    "import numpy as np\n",
    "import numpy as np\n",
    "from numpy.linalg import norm\n",
    "from sklearn.metrics.pairwise import cosine_similarity\n",
    "import warnings\n",
    "warnings.filterwarnings('ignore')"
   ]
  },
  {
   "cell_type": "code",
   "execution_count": 2,
   "id": "edd9f48d",
   "metadata": {},
   "outputs": [],
   "source": [
    "uri = \"bolt://localhost:7687\"\n",
    "username = \"neo4j\"\n",
    "password = \"password\"\n",
    "driver = GraphDatabase.driver(uri, auth=(username, password))\n",
    "\n",
    "spotify_data = pd.read_csv(\"spotify.csv\")\n",
    "\n",
    "# Filter the data set to only include the three Regina Spektor songs \n",
    "regina_songs = ['The Call', 'Two Birds', 'Samson']\n",
    "regina_data = spotify_data[spotify_data['track_name'].isin(regina_songs)]\n",
    "\n",
    "sample_size = 1000\n",
    "remaining_data = spotify_data[~spotify_data['track_name'].isin(regina_songs)] # use the negation operator to exclude the Regina Spektor songs\n",
    "sample_data = remaining_data.sample(n=min(sample_size-len(regina_data), len(remaining_data)), replace=False) \n",
    "\n",
    "# Combine the Regina Spektor songs with the sampled data\n",
    "sample_data = pd.concat([sample_data, regina_data])"
   ]
  },
  {
   "cell_type": "code",
   "execution_count": 3,
   "id": "876724df",
   "metadata": {},
   "outputs": [],
   "source": [
    "#get cosine similarity of songs to every other song \n",
    "import numpy as np\n",
    "from sklearn.metrics.pairwise import cosine_similarity\n",
    "\n",
    "#numeric features used for cosine similarity\n",
    "features = ['danceability', 'energy', 'tempo','loudness','valence']\n",
    "df_1 = sample_data[features]\n",
    "\n",
    "#return np array of cosine similarity of numeric features\n",
    "cosine_sim_results = cosine_similarity(sample_data[features])\n",
    "\n",
    "#make dataframe with cosine similarities\n",
    "cos_sim_df = pd.DataFrame(cosine_sim_results, columns=df_1.index, index=df_1.index)\n",
    "\n",
    "#df with three columns - track1_name, track2_name, and similarity score\n",
    "# sim_score already has features \n",
    "cols = ['track1_name', 'track2_name', 'similarity_score']\n",
    "songs_cosine_similarities = pd.DataFrame(columns = cols)\n",
    "\n",
    "dictionary_list = []\n",
    "\n",
    "#compute cosine similarity of one song with every other\n",
    "for i in range(len(sample_data)):\n",
    "    #compare with next\n",
    "    for j in range(i+1, len(sample_data)):\n",
    "        #get track names\n",
    "        track1_name = sample_data.iloc[i]['track_name']\n",
    "        track2_name = sample_data.iloc[j]['track_name']\n",
    "        #get the cosine_similarity score for (i,j) pair\n",
    "        cosine_similarity_pair_score = cos_sim_df.iloc[i, j]\n",
    "        #make df with names and scores\n",
    "        dictionary_data = {'track1_name' : track1_name, \n",
    "                         'track2_name' : track2_name, \n",
    "                         'similarity_score': cosine_similarity_pair_score}\n",
    "        dictionary_list.append(dictionary_data)"
   ]
  },
  {
   "cell_type": "code",
   "execution_count": 4,
   "id": "42743733",
   "metadata": {},
   "outputs": [
    {
     "data": {
      "text/plain": [
       "0.9935914532330125"
      ]
     },
     "execution_count": 4,
     "metadata": {},
     "output_type": "execute_result"
    }
   ],
   "source": [
    "df_final = pd.DataFrame.from_dict(dictionary_list)\n",
    "df_final['similarity_score'].mean()"
   ]
  },
  {
   "cell_type": "code",
   "execution_count": null,
   "id": "fb952fc5",
   "metadata": {},
   "outputs": [],
   "source": [
    "df_final.to_csv('spotify_with_similarity_score')"
   ]
  },
  {
   "cell_type": "code",
   "execution_count": null,
   "id": "10734adb",
   "metadata": {},
   "outputs": [],
   "source": [
    "# Define the query to create the nodes and edges\n",
    "query = \"\"\"\n",
    "UNWIND $rows AS row\n",
    "WITH row\n",
    "WHERE row.similarity_score > 0.80\n",
    "MERGE (t1:Track {name: row.track1_name})\n",
    "MERGE (t2:Track {name: row.track2_name})\n",
    "MERGE (t1)-[s:SIMILAR_TO {score: row.similarity_score}]->(t2)\n",
    "\"\"\"\n",
    "\n",
    "# Define the parameters for the query\n",
    "params = {\"rows\": df_final[df_final[\"similarity_score\"] > 0.80].to_dict(\"records\")}\n",
    "\n",
    "# Run the query using the driver\n",
    "with driver.session() as session:\n",
    "    session.run(query, params)"
   ]
  },
  {
   "cell_type": "code",
   "execution_count": null,
   "id": "d5608329",
   "metadata": {},
   "outputs": [],
   "source": [
    "\n",
    "with driver.session() as session:\n",
    "    query = \"\"\"\n",
    "    MATCH (s1:Song)-[r:SIMILAR_TO]->(s2:Song)\n",
    "    WHERE s1.name <> 'The Call' AND s1.name <> 'Two Birds' AND s1.name <> 'Samson'\n",
    "    AND NOT s2.name IN ['The Call', 'Two Birds', 'Samson']\n",
    "    AND r.similarity_score IS NOT NULL AND toFloat(r.similarity_score) > 0.8\n",
    "    RETURN DISTINCT s2.name AS song_name, r.similarity_score AS similarity_score\n",
    "    ORDER BY similarity_score DESC\n",
    "    LIMIT 5\n",
    "    \"\"\"\n",
    "    result = session.run(query)\n",
    "\n",
    "    # Print the recommended songs\n",
    "    print(\"Song Recommendations:\")\n",
    "    for record in result:\n",
    "        print(f\"{record['song_name']} (Similarity Score: {record['similarity_score']})\")"
   ]
  },
  {
   "cell_type": "code",
   "execution_count": null,
   "id": "13084c5e",
   "metadata": {},
   "outputs": [],
   "source": []
  },
  {
   "cell_type": "code",
   "execution_count": null,
   "id": "48027535",
   "metadata": {},
   "outputs": [],
   "source": []
  },
  {
   "cell_type": "code",
   "execution_count": null,
   "id": "c46d74ce",
   "metadata": {},
   "outputs": [],
   "source": []
  }
 ],
 "metadata": {
  "kernelspec": {
   "display_name": "Python 3 (ipykernel)",
   "language": "python",
   "name": "python3"
  },
  "language_info": {
   "codemirror_mode": {
    "name": "ipython",
    "version": 3
   },
   "file_extension": ".py",
   "mimetype": "text/x-python",
   "name": "python",
   "nbconvert_exporter": "python",
   "pygments_lexer": "ipython3",
   "version": "3.9.12"
  }
 },
 "nbformat": 4,
 "nbformat_minor": 5
}
