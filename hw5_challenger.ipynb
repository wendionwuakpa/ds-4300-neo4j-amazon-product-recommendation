{
 "cells": [
  {
   "cell_type": "code",
   "execution_count": 1,
   "id": "ab46e2e6",
   "metadata": {},
   "outputs": [
    {
     "name": "stderr",
     "output_type": "stream",
     "text": [
      "Setting default log level to \"WARN\".\n",
      "To adjust logging level use sc.setLogLevel(newLevel). For SparkR, use setLogLevel(newLevel).\n"
     ]
    },
    {
     "name": "stdout",
     "output_type": "stream",
     "text": [
      "23/04/12 13:54:33 WARN NativeCodeLoader: Unable to load native-hadoop library for your platform... using builtin-java classes where applicable\n"
     ]
    }
   ],
   "source": [
    "from pyspark.sql.functions import udf\n",
    "from pyspark.sql.types import IntegerType\n",
    "import findspark\n",
    "from math import radians, cos, sin, asin, sqrt\n",
    "from pyspark import SparkContext\n",
    "from pyspark.sql import SparkSession \n",
    "from pyspark.sql.functions import array\n",
    "sc=SparkContext()"
   ]
  },
  {
   "cell_type": "code",
   "execution_count": 2,
   "id": "86a12557",
   "metadata": {},
   "outputs": [],
   "source": [
    "@udf()\n",
    "def haversine_to_cape(lat_long):\n",
    "    \"\"\"\n",
    "    Calculate the great circle distance in kilometers between two points \n",
    "    on the earth (specified in decimal degrees)\n",
    "    \"\"\"\n",
    "    # convert decimal degrees to radians \n",
    "    lat1, lon1 = map(radians, (28.3922, -80.6077))\n",
    "    lat2, lon2 = map(radians, [float(i) for i in lat_long])\n",
    "\n",
    "    #haversine formula i \n",
    "    dlon = lon2 - lon1 \n",
    "    dlat = lat2 - lat1 \n",
    "    a = sin(dlat/2)**2 + cos(lat1) * cos(lat2) * sin(dlon/2)**2\n",
    "    c = 2 * asin(sqrt(a)) \n",
    "    r = 6371 # Radius of earth in kilometers. Use 3956 for miles. Determines return value units.\n",
    "    return c * r"
   ]
  },
  {
   "cell_type": "code",
   "execution_count": 3,
   "id": "1060e062",
   "metadata": {},
   "outputs": [
    {
     "name": "stderr",
     "output_type": "stream",
     "text": [
      "\r",
      "[Stage 0:>                                                          (0 + 1) / 1]\r",
      "\r",
      "                                                                                \r"
     ]
    }
   ],
   "source": [
    "spark = SparkSession \\\n",
    "    .builder \\\n",
    "    .appName(\"how to read csv file\") \\\n",
    "    .getOrCreate()\n",
    "\n",
    "df_1986 = spark.read.csv('1986.csv')\n",
    "df_stations = spark.read.csv('stations.csv')"
   ]
  },
  {
   "cell_type": "code",
   "execution_count": 4,
   "id": "329600b5",
   "metadata": {},
   "outputs": [],
   "source": [
    "df_1986 = df_1986.dropDuplicates()"
   ]
  },
  {
   "cell_type": "code",
   "execution_count": 5,
   "id": "5cd31d20",
   "metadata": {},
   "outputs": [],
   "source": [
    "df_stations = df_stations.dropna(subset=[\"_c2\",\"_c3\"])\n",
    "df_stations = df_stations.dropDuplicates()"
   ]
  },
  {
   "cell_type": "code",
   "execution_count": 6,
   "id": "84668697",
   "metadata": {},
   "outputs": [],
   "source": [
    "df_stations = df_stations.withColumn(\"distance_to_cape\", haversine_to_cape(array('_c2', '_c3')))"
   ]
  },
  {
   "cell_type": "code",
   "execution_count": 7,
   "id": "929ee4a2",
   "metadata": {},
   "outputs": [
    {
     "name": "stderr",
     "output_type": "stream",
     "text": [
      "\r",
      "[Stage 2:>                                                          (0 + 1) / 1]\r"
     ]
    },
    {
     "name": "stdout",
     "output_type": "stream",
     "text": [
      "+------+-----+-------+--------+------------------+\n",
      "|   _c0|  _c1|    _c2|     _c3|  distance_to_cape|\n",
      "+------+-----+-------+--------+------------------+\n",
      "|747940|12868|+28.483|-080.567|10.852471594053252|\n",
      "|722011|92813|+28.290|-081.437| 81.95247639646107|\n",
      "|722058| null|+29.070|-080.920| 81.28688869720159|\n",
      "|  null|12851|+28.100|-080.633| 32.58553314315834|\n",
      "|720904| null|+29.067|-081.284| 99.89303332812807|\n",
      "|749047| null|+28.283|-081.416| 80.03461347256854|\n",
      "|  null|12843|+27.653|-080.243| 89.65245500958036|\n",
      "|720904|00299|+29.067|-081.283| 99.82869362421721|\n",
      "|747945| null|+28.617|-080.700|26.573973942086713|\n",
      "|997354| null|+28.420|-080.580| 4.110433692817337|\n",
      "|722361|92808|+29.054|-080.948| 80.72444804718191|\n",
      "|722053| null|+28.550|-081.333| 73.03467496332385|\n",
      "|722045|12843|+27.653|-080.243| 89.65245500958036|\n",
      "|994951| null|+27.862|-080.445| 61.07628026769421|\n",
      "|997806| null|+28.400|-080.533| 7.358154613618123|\n",
      "|722040| null|+28.100|-080.650| 32.75429010493698|\n",
      "|  null|12855|+27.650|-080.417| 84.62512390215271|\n",
      "|722056|12834|+29.183|-081.048| 97.84308281668112|\n",
      "|  null|12854|+28.780|-081.244| 75.62645082596696|\n",
      "|747870|12834|+29.183|-081.048| 97.84308281668112|\n",
      "+------+-----+-------+--------+------------------+\n",
      "only showing top 20 rows\n",
      "\n"
     ]
    },
    {
     "name": "stderr",
     "output_type": "stream",
     "text": [
      "\r",
      "                                                                                \r"
     ]
    }
   ],
   "source": [
    "distance_df = df_stations.filter(df_stations.distance_to_cape <= 100)\n",
    "distance_df.show()"
   ]
  },
  {
   "cell_type": "code",
   "execution_count": 8,
   "id": "5f25dab2",
   "metadata": {},
   "outputs": [
    {
     "name": "stdout",
     "output_type": "stream",
     "text": [
      "+----------+-------+--------+---------+------------------+\n",
      "|Station_ID|WBAN_ID|Latitude|Longitude|  distance_to_cape|\n",
      "+----------+-------+--------+---------+------------------+\n",
      "|    747940|  12868| +28.483| -080.567|10.852471594053252|\n",
      "|    722011|  92813| +28.290| -081.437| 81.95247639646107|\n",
      "|    722058|   null| +29.070| -080.920| 81.28688869720159|\n",
      "|      null|  12851| +28.100| -080.633| 32.58553314315834|\n",
      "|    720904|   null| +29.067| -081.284| 99.89303332812807|\n",
      "|    749047|   null| +28.283| -081.416| 80.03461347256854|\n",
      "|      null|  12843| +27.653| -080.243| 89.65245500958036|\n",
      "|    720904|  00299| +29.067| -081.283| 99.82869362421721|\n",
      "|    747945|   null| +28.617| -080.700|26.573973942086713|\n",
      "|    997354|   null| +28.420| -080.580| 4.110433692817337|\n",
      "|    722361|  92808| +29.054| -080.948| 80.72444804718191|\n",
      "|    722053|   null| +28.550| -081.333| 73.03467496332385|\n",
      "|    722045|  12843| +27.653| -080.243| 89.65245500958036|\n",
      "|    994951|   null| +27.862| -080.445| 61.07628026769421|\n",
      "|    997806|   null| +28.400| -080.533| 7.358154613618123|\n",
      "|    722040|   null| +28.100| -080.650| 32.75429010493698|\n",
      "|      null|  12855| +27.650| -080.417| 84.62512390215271|\n",
      "|    722056|  12834| +29.183| -081.048| 97.84308281668112|\n",
      "|      null|  12854| +28.780| -081.244| 75.62645082596696|\n",
      "|    747870|  12834| +29.183| -081.048| 97.84308281668112|\n",
      "+----------+-------+--------+---------+------------------+\n",
      "only showing top 20 rows\n",
      "\n"
     ]
    }
   ],
   "source": [
    "distance_df = distance_df.withColumnRenamed(\"_c0\",\"Station_ID\")\n",
    "distance_df = distance_df.withColumnRenamed(\"_c1\",\"WBAN_ID\")\n",
    "distance_df = distance_df.withColumnRenamed(\"_c2\",\"Latitude\")\n",
    "distance_df = distance_df.withColumnRenamed(\"_c3\",\"Longitude\")\n",
    "\n",
    "distance_df.show()"
   ]
  },
  {
   "cell_type": "code",
   "execution_count": 9,
   "id": "48a27148",
   "metadata": {},
   "outputs": [
    {
     "name": "stderr",
     "output_type": "stream",
     "text": [
      "[Stage 8:=======>                                                   (1 + 7) / 8]\r"
     ]
    },
    {
     "name": "stdout",
     "output_type": "stream",
     "text": [
      "+----------+-------+-----+---+-----------+\n",
      "|Station_ID|WBAN_ID|Month|Day|Temperature|\n",
      "+----------+-------+-----+---+-----------+\n",
      "|    010750|   null|   12| 01|       23.7|\n",
      "|    011160|   null|   05| 01|       43.7|\n",
      "|    011600|   null|   10| 01|       47.9|\n",
      "|    012280|   null|   01| 01|       24.5|\n",
      "|    013110|   null|   11| 01|       40.8|\n",
      "|    013660|   null|   06| 01|       38.2|\n",
      "|    014033|   null|   05| 01|       45.1|\n",
      "|    021860|   null|   11| 01|       39.5|\n",
      "|    021960|   null|   01| 01|       23.9|\n",
      "|    025240|   null|   09| 01|       51.4|\n",
      "|    025300|   null|   10| 01|       53.5|\n",
      "|    025920|   null|   08| 01|       66.6|\n",
      "|    029150|   null|   05| 01|       39.0|\n",
      "|    031520|   null|   09| 01|       53.1|\n",
      "|    033450|   null|   01| 01|       34.6|\n",
      "|    033790|   null|   04| 01|       42.7|\n",
      "|    034140|   null|   11| 01|       45.3|\n",
      "|    034925|   null|   05| 01|       58.3|\n",
      "|    035030|   null|   09| 01|       57.6|\n",
      "|    035623|   null|   01| 01|       36.9|\n",
      "+----------+-------+-----+---+-----------+\n",
      "only showing top 20 rows\n",
      "\n"
     ]
    },
    {
     "name": "stderr",
     "output_type": "stream",
     "text": [
      "\r",
      "                                                                                \r"
     ]
    }
   ],
   "source": [
    "df_1986 = df_1986.withColumnRenamed(\"_c0\",\"Station_ID\")\n",
    "df_1986 = df_1986.withColumnRenamed(\"_c1\",\"WBAN_ID\")\n",
    "df_1986 = df_1986.withColumnRenamed(\"_c2\",\"Month\")\n",
    "df_1986 = df_1986.withColumnRenamed(\"_c3\",'Day')\n",
    "df_1986 = df_1986.withColumnRenamed(\"_c4\",'Temperature')\n",
    "\n",
    "df_1986.show()"
   ]
  },
  {
   "cell_type": "code",
   "execution_count": 10,
   "id": "e3fc1a21",
   "metadata": {},
   "outputs": [
    {
     "name": "stderr",
     "output_type": "stream",
     "text": [
      "                                                                                \r"
     ]
    },
    {
     "name": "stdout",
     "output_type": "stream",
     "text": [
      "+----------+-------+--------+---------+-----------------+----------+-------+-----+---+-----------+\n",
      "|Station_ID|WBAN_ID|Latitude|Longitude| distance_to_cape|Station_ID|WBAN_ID|Month|Day|Temperature|\n",
      "+----------+-------+--------+---------+-----------------+----------+-------+-----+---+-----------+\n",
      "|    722050|  12815| +28.434| -081.325|70.30590142260303|    722050|  12815|   12| 08|       69.2|\n",
      "|      null|  12815| +28.434| -081.325|70.30590142260303|    722050|  12815|   12| 08|       69.2|\n",
      "|    722053|  12841| +28.545| -081.333|72.90473375184327|    722051|  12841|   03| 09|       11.8|\n",
      "|      null|  12841| +28.545| -081.333|72.90473375184327|    722051|  12841|   03| 09|       11.8|\n",
      "|    722051|  12841| +28.545| -081.333|72.90473375184327|    722051|  12841|   03| 09|       11.8|\n",
      "|    722050|  12815| +28.434| -081.325|70.30590142260303|    722050|  12815|   12| 17|       66.0|\n",
      "|      null|  12815| +28.434| -081.325|70.30590142260303|    722050|  12815|   12| 17|       66.0|\n",
      "|    722056|  12834| +29.183| -081.048|97.84308281668112|    722056|  12834|   02| 18|       63.8|\n",
      "|    747870|  12834| +29.183| -081.048|97.84308281668112|    722056|  12834|   02| 18|       63.8|\n",
      "|    722056|   null| +29.167| -081.050|96.33586366684742|    722056|  12834|   02| 18|       63.8|\n",
      "|      null|  12834| +29.183| -081.048|97.84308281668112|    722056|  12834|   02| 18|       63.8|\n",
      "|      null|  12843| +27.653| -080.243|89.65245500958036|    722045|  12843|   12| 24|       73.8|\n",
      "|    722045|  12843| +27.653| -080.243|89.65245500958036|    722045|  12843|   12| 24|       73.8|\n",
      "|    722045|   null| +27.650| -080.417|84.62512390215271|    722045|  12843|   12| 24|       73.8|\n",
      "|    747930|  12843| +27.651| -080.420|84.45193561859946|    722045|  12843|   12| 24|       73.8|\n",
      "|      null|  12854| +28.780| -081.244|75.62645082596696|    722057|  12854|   10| 28|       69.9|\n",
      "|    722057|  12854| +28.780| -081.244|75.62645082596696|    722057|  12854|   10| 28|       69.9|\n",
      "|    722057|   null| +28.767| -081.233|73.92525564404123|    722057|  12854|   10| 28|       69.9|\n",
      "|    722040|   null| +28.100| -080.650|32.75429010493698|    722040|  12838|   08| 30|       84.4|\n",
      "|    722040|  12838| +28.101| -080.644|32.57460775618103|    722040|  12838|   08| 30|       84.4|\n",
      "+----------+-------+--------+---------+-----------------+----------+-------+-----+---+-----------+\n",
      "only showing top 20 rows\n",
      "\n"
     ]
    }
   ],
   "source": [
    "merged_df = distance_df.join(df_1986, (distance_df[\"Station_ID\"] == df_1986[\"Station_ID\"]) |\n",
    "                             (distance_df[\"WBAN_ID\"] == df_1986[\"WBAN_ID\"]), 'inner')\n",
    "\n",
    "merged_df.show()"
   ]
  },
  {
   "cell_type": "code",
   "execution_count": 11,
   "id": "c95cdffb",
   "metadata": {},
   "outputs": [
    {
     "name": "stderr",
     "output_type": "stream",
     "text": [
      "[Stage 22:>                                                         (0 + 8) / 8]\r"
     ]
    },
    {
     "name": "stdout",
     "output_type": "stream",
     "text": [
      "The estimated temperature at Cape Canaveral on January 28, 1986 is 72.73 degrees.\n"
     ]
    },
    {
     "name": "stderr",
     "output_type": "stream",
     "text": [
      "\r",
      "                                                                                \r"
     ]
    }
   ],
   "source": [
    "from pyspark.sql.functions import pow, sum, col\n",
    "\n",
    "# Calculate the weights using the inverse distance weighting formula\n",
    "p = 2  # power parameter\n",
    "data = merged_df.withColumn(\"weight\", 1 / pow(merged_df.distance_to_cape, p))\n",
    "\n",
    "# Calculate the weighted average temperature\n",
    "weighted_avg_temperature = data.select(sum(data.Temperature * data.weight) / sum(data.weight)).collect()[0][0]\n",
    "\n",
    "# Print the result\n",
    "print(f\"The estimated temperature at Cape Canaveral on January 28, 1986 is {weighted_avg_temperature:.2f} degrees.\")\n"
   ]
  },
  {
   "cell_type": "code",
   "execution_count": 26,
   "id": "6ae78569",
   "metadata": {},
   "outputs": [
    {
     "name": "stderr",
     "output_type": "stream",
     "text": [
      "                                                                                \r"
     ]
    },
    {
     "ename": "TypeError",
     "evalue": "no numeric data to plot",
     "output_type": "error",
     "traceback": [
      "\u001b[0;31m---------------------------------------------------------------------------\u001b[0m",
      "\u001b[0;31mTypeError\u001b[0m                                 Traceback (most recent call last)",
      "Cell \u001b[0;32mIn[26], line 10\u001b[0m\n\u001b[1;32m      7\u001b[0m \u001b[38;5;66;03m# extract the day and temperature data from the filtered DataFrame\u001b[39;00m\n\u001b[1;32m      8\u001b[0m data \u001b[38;5;241m=\u001b[39m january_1986_df\u001b[38;5;241m.\u001b[39mselect(\u001b[38;5;124m'\u001b[39m\u001b[38;5;124mDay\u001b[39m\u001b[38;5;124m'\u001b[39m, \u001b[38;5;124m'\u001b[39m\u001b[38;5;124mTemperature\u001b[39m\u001b[38;5;124m'\u001b[39m)\u001b[38;5;241m.\u001b[39mtoPandas()\n\u001b[0;32m---> 10\u001b[0m \u001b[43mdata\u001b[49m\u001b[38;5;241;43m.\u001b[39;49m\u001b[43mplot\u001b[49m\u001b[43m(\u001b[49m\u001b[43mkind\u001b[49m\u001b[38;5;241;43m=\u001b[39;49m\u001b[38;5;124;43m'\u001b[39;49m\u001b[38;5;124;43mline\u001b[39;49m\u001b[38;5;124;43m'\u001b[39;49m\u001b[43m,\u001b[49m\u001b[43mfigsize\u001b[49m\u001b[38;5;241;43m=\u001b[39;49m\u001b[43m(\u001b[49m\u001b[38;5;241;43m12\u001b[39;49m\u001b[43m,\u001b[49m\u001b[38;5;241;43m6\u001b[39;49m\u001b[43m)\u001b[49m\u001b[43m)\u001b[49m\n",
      "File \u001b[0;32m~/opt/anaconda3/lib/python3.9/site-packages/pandas/plotting/_core.py:1000\u001b[0m, in \u001b[0;36mPlotAccessor.__call__\u001b[0;34m(self, *args, **kwargs)\u001b[0m\n\u001b[1;32m    997\u001b[0m             label_name \u001b[38;5;241m=\u001b[39m label_kw \u001b[38;5;129;01mor\u001b[39;00m data\u001b[38;5;241m.\u001b[39mcolumns\n\u001b[1;32m    998\u001b[0m             data\u001b[38;5;241m.\u001b[39mcolumns \u001b[38;5;241m=\u001b[39m label_name\n\u001b[0;32m-> 1000\u001b[0m \u001b[38;5;28;01mreturn\u001b[39;00m \u001b[43mplot_backend\u001b[49m\u001b[38;5;241;43m.\u001b[39;49m\u001b[43mplot\u001b[49m\u001b[43m(\u001b[49m\u001b[43mdata\u001b[49m\u001b[43m,\u001b[49m\u001b[43m \u001b[49m\u001b[43mkind\u001b[49m\u001b[38;5;241;43m=\u001b[39;49m\u001b[43mkind\u001b[49m\u001b[43m,\u001b[49m\u001b[43m \u001b[49m\u001b[38;5;241;43m*\u001b[39;49m\u001b[38;5;241;43m*\u001b[39;49m\u001b[43mkwargs\u001b[49m\u001b[43m)\u001b[49m\n",
      "File \u001b[0;32m~/opt/anaconda3/lib/python3.9/site-packages/pandas/plotting/_matplotlib/__init__.py:71\u001b[0m, in \u001b[0;36mplot\u001b[0;34m(data, kind, **kwargs)\u001b[0m\n\u001b[1;32m     69\u001b[0m         kwargs[\u001b[38;5;124m\"\u001b[39m\u001b[38;5;124max\u001b[39m\u001b[38;5;124m\"\u001b[39m] \u001b[38;5;241m=\u001b[39m \u001b[38;5;28mgetattr\u001b[39m(ax, \u001b[38;5;124m\"\u001b[39m\u001b[38;5;124mleft_ax\u001b[39m\u001b[38;5;124m\"\u001b[39m, ax)\n\u001b[1;32m     70\u001b[0m plot_obj \u001b[38;5;241m=\u001b[39m PLOT_CLASSES[kind](data, \u001b[38;5;241m*\u001b[39m\u001b[38;5;241m*\u001b[39mkwargs)\n\u001b[0;32m---> 71\u001b[0m \u001b[43mplot_obj\u001b[49m\u001b[38;5;241;43m.\u001b[39;49m\u001b[43mgenerate\u001b[49m\u001b[43m(\u001b[49m\u001b[43m)\u001b[49m\n\u001b[1;32m     72\u001b[0m plot_obj\u001b[38;5;241m.\u001b[39mdraw()\n\u001b[1;32m     73\u001b[0m \u001b[38;5;28;01mreturn\u001b[39;00m plot_obj\u001b[38;5;241m.\u001b[39mresult\n",
      "File \u001b[0;32m~/opt/anaconda3/lib/python3.9/site-packages/pandas/plotting/_matplotlib/core.py:450\u001b[0m, in \u001b[0;36mMPLPlot.generate\u001b[0;34m(self)\u001b[0m\n\u001b[1;32m    448\u001b[0m \u001b[38;5;28;01mdef\u001b[39;00m \u001b[38;5;21mgenerate\u001b[39m(\u001b[38;5;28mself\u001b[39m) \u001b[38;5;241m-\u001b[39m\u001b[38;5;241m>\u001b[39m \u001b[38;5;28;01mNone\u001b[39;00m:\n\u001b[1;32m    449\u001b[0m     \u001b[38;5;28mself\u001b[39m\u001b[38;5;241m.\u001b[39m_args_adjust()\n\u001b[0;32m--> 450\u001b[0m     \u001b[38;5;28;43mself\u001b[39;49m\u001b[38;5;241;43m.\u001b[39;49m\u001b[43m_compute_plot_data\u001b[49m\u001b[43m(\u001b[49m\u001b[43m)\u001b[49m\n\u001b[1;32m    451\u001b[0m     \u001b[38;5;28mself\u001b[39m\u001b[38;5;241m.\u001b[39m_setup_subplots()\n\u001b[1;32m    452\u001b[0m     \u001b[38;5;28mself\u001b[39m\u001b[38;5;241m.\u001b[39m_make_plot()\n",
      "File \u001b[0;32m~/opt/anaconda3/lib/python3.9/site-packages/pandas/plotting/_matplotlib/core.py:635\u001b[0m, in \u001b[0;36mMPLPlot._compute_plot_data\u001b[0;34m(self)\u001b[0m\n\u001b[1;32m    633\u001b[0m \u001b[38;5;66;03m# no non-numeric frames or series allowed\u001b[39;00m\n\u001b[1;32m    634\u001b[0m \u001b[38;5;28;01mif\u001b[39;00m is_empty:\n\u001b[0;32m--> 635\u001b[0m     \u001b[38;5;28;01mraise\u001b[39;00m \u001b[38;5;167;01mTypeError\u001b[39;00m(\u001b[38;5;124m\"\u001b[39m\u001b[38;5;124mno numeric data to plot\u001b[39m\u001b[38;5;124m\"\u001b[39m)\n\u001b[1;32m    637\u001b[0m \u001b[38;5;28mself\u001b[39m\u001b[38;5;241m.\u001b[39mdata \u001b[38;5;241m=\u001b[39m numeric_data\u001b[38;5;241m.\u001b[39mapply(\u001b[38;5;28mself\u001b[39m\u001b[38;5;241m.\u001b[39m_convert_to_ndarray)\n",
      "\u001b[0;31mTypeError\u001b[0m: no numeric data to plot"
     ]
    }
   ],
   "source": [
    "import pandas as pd\n",
    "import matplotlib.pyplot as plt\n",
    "\n",
    "# filter the DataFrame to include only the data for January 1986\n",
    "january_1986_df = df_1986.filter(df_1986['Month'] == '01')\n",
    "\n",
    "# extract the day and temperature data from the filtered DataFrame\n",
    "data = january_1986_df.select('Day', 'Temperature').toPandas()\n",
    "\n",
    "\n",
    "\n",
    "# plot the temperature data\n",
    "#plt.plot(data['Day'], data['Temperature'])\n",
    "#plt.title('Temperature at Cape Canaveral, January 1986')\n",
    "#plt.xlabel('Day')\n",
    "#plt.ylabel('Temperature')\n",
    "#plt.show()\n"
   ]
  },
  {
   "cell_type": "code",
   "execution_count": null,
   "id": "2472395f",
   "metadata": {},
   "outputs": [],
   "source": []
  }
 ],
 "metadata": {
  "kernelspec": {
   "display_name": "PySpark",
   "language": "python",
   "name": "pyspark"
  },
  "language_info": {
   "codemirror_mode": {
    "name": "ipython",
    "version": 3
   },
   "file_extension": ".py",
   "mimetype": "text/x-python",
   "name": "python",
   "nbconvert_exporter": "python",
   "pygments_lexer": "ipython3",
   "version": "3.9.13"
  }
 },
 "nbformat": 4,
 "nbformat_minor": 5
}
