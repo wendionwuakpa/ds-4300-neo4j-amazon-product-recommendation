{
 "cells": [
  {
   "cell_type": "code",
   "execution_count": 1,
   "id": "a3fcc9ce",
   "metadata": {},
   "outputs": [],
   "source": [
    "from neo4j import GraphDatabase\n",
    "import pandas as pd\n",
    "import numpy as np\n",
    "import numpy as np\n",
    "from numpy.linalg import norm\n",
    "from sklearn.metrics.pairwise import cosine_similarity\n",
    "import warnings\n",
    "warnings.filterwarnings('ignore')"
   ]
  },
  {
   "cell_type": "code",
   "execution_count": 2,
   "id": "edd9f48d",
   "metadata": {},
   "outputs": [],
   "source": [
    "uri = \"bolt://localhost:7687\"\n",
    "username = \"neo4j\"\n",
    "password = \"password\"\n",
    "driver = GraphDatabase.driver(uri, auth=(username, password))\n",
    "\n",
    "spotify_data = pd.read_csv(\"spotify.csv\")\n",
    "\n",
    "# Filter the data set to only include the three Regina Spektor songs \n",
    "regina_songs = ['The Call', 'Two Birds', 'Samson']\n",
    "regina_data = spotify_data[spotify_data['track_name'].isin(regina_songs)]\n",
    "\n",
    "sample_size = 1000\n",
    "remaining_data = spotify_data[~spotify_data['track_name'].isin(regina_songs)] # use the negation operator to exclude the Regina Spektor songs\n",
    "sample_data = remaining_data.sample(n=min(sample_size-len(regina_data), len(remaining_data)), replace=False) \n",
    "\n",
    "# Combine the Regina Spektor songs with the sampled data\n",
    "sample_data = pd.concat([sample_data, regina_data])"
   ]
  },
  {
   "cell_type": "code",
   "execution_count": 3,
   "id": "876724df",
   "metadata": {},
   "outputs": [],
   "source": [
    "#get cosine similarity of songs to every other song \n",
    "import numpy as np\n",
    "from sklearn.metrics.pairwise import cosine_similarity\n",
    "\n",
    "#numeric features used for cosine similarity\n",
    "features = ['danceability', 'energy', 'tempo','loudness','valence']\n",
    "df_1 = sample_data[features]\n",
    "\n",
    "#return np array of cosine similarity of numeric features\n",
    "cosine_sim_results = cosine_similarity(sample_data[features])\n",
    "\n",
    "#make dataframe with cosine similarities\n",
    "cos_sim_df = pd.DataFrame(cosine_sim_results, columns=df_1.index, index=df_1.index)\n",
    "\n",
    "#df with three columns - track1_name, track2_name, and similarity score\n",
    "# sim_score already has features \n",
    "cols = ['track1_name', 'track2_name', 'similarity_score']\n",
    "songs_cosine_similarities = pd.DataFrame(columns = cols)\n",
    "\n",
    "dictionary_list = []\n",
    "\n",
    "#compute cosine similarity of one song with every other\n",
    "for i in range(len(sample_data)):\n",
    "    #compare with next\n",
    "    for j in range(i+1, len(sample_data)):\n",
    "        #get track names\n",
    "        track1_name = sample_data.iloc[i]['track_name']\n",
    "        track2_name = sample_data.iloc[j]['track_name']\n",
    "        #get the cosine_similarity score for (i,j) pair\n",
    "        cosine_similarity_pair_score = cos_sim_df.iloc[i, j]\n",
    "        #make df with names and scores\n",
    "        dictionary_data = {'track1_name' : track1_name, \n",
    "                          'track2_name' : track2_name, \n",
    "                         'similarity_score': cosine_similarity_pair_score}\n",
    "        dictionary_list.append(dictionary_data)"
   ]
  },
  {
   "cell_type": "code",
   "execution_count": 4,
   "id": "42743733",
   "metadata": {},
   "outputs": [
    {
     "data": {
      "text/plain": [
       "0.9944313664850571"
      ]
     },
     "execution_count": 4,
     "metadata": {},
     "output_type": "execute_result"
    }
   ],
   "source": [
    "df_final = pd.DataFrame.from_dict(dictionary_list)\n",
    "df_final['similarity_score'].mean()"
   ]
  },
  {
   "cell_type": "code",
   "execution_count": 5,
   "id": "858fc6ba",
   "metadata": {},
   "outputs": [],
   "source": [
    "df_final.to_csv('spotify_with_similarity_score.csv')"
   ]
  },
  {
   "cell_type": "code",
   "execution_count": null,
   "id": "42d6c322",
   "metadata": {},
   "outputs": [],
   "source": []
  },
  {
   "cell_type": "code",
   "execution_count": 6,
   "id": "10734adb",
   "metadata": {},
   "outputs": [
    {
     "ename": "ServiceUnavailable",
     "evalue": "Couldn't connect to localhost:7687 (resolved to ()):\nFailed to establish connection to ResolvedIPv6Address(('::1', 7687, 0, 0)) (reason [Errno 61] Connection refused)\nFailed to establish connection to ResolvedIPv4Address(('127.0.0.1', 7687)) (reason [Errno 61] Connection refused)",
     "output_type": "error",
     "traceback": [
      "\u001b[0;31m---------------------------------------------------------------------------\u001b[0m",
      "\u001b[0;31mConnectionRefusedError\u001b[0m                    Traceback (most recent call last)",
      "File \u001b[0;32m~/opt/anaconda3/lib/python3.9/site-packages/neo4j/_async_compat/network/_bolt_socket.py:507\u001b[0m, in \u001b[0;36mBoltSocket._connect\u001b[0;34m(cls, resolved_address, timeout, keep_alive)\u001b[0m\n\u001b[1;32m    506\u001b[0m log\u001b[38;5;241m.\u001b[39mdebug(\u001b[38;5;124m\"\u001b[39m\u001b[38;5;124m[#0000]  C: <OPEN> \u001b[39m\u001b[38;5;132;01m%s\u001b[39;00m\u001b[38;5;124m\"\u001b[39m, resolved_address)\n\u001b[0;32m--> 507\u001b[0m \u001b[43ms\u001b[49m\u001b[38;5;241;43m.\u001b[39;49m\u001b[43mconnect\u001b[49m\u001b[43m(\u001b[49m\u001b[43mresolved_address\u001b[49m\u001b[43m)\u001b[49m\n\u001b[1;32m    508\u001b[0m s\u001b[38;5;241m.\u001b[39msettimeout(t)\n",
      "\u001b[0;31mConnectionRefusedError\u001b[0m: [Errno 61] Connection refused",
      "\nThe above exception was the direct cause of the following exception:\n",
      "\u001b[0;31mServiceUnavailable\u001b[0m                        Traceback (most recent call last)",
      "File \u001b[0;32m~/opt/anaconda3/lib/python3.9/site-packages/neo4j/_async_compat/network/_bolt_socket.py:652\u001b[0m, in \u001b[0;36mBoltSocket.connect\u001b[0;34m(cls, address, timeout, custom_resolver, ssl_context, keep_alive)\u001b[0m\n\u001b[1;32m    651\u001b[0m \u001b[38;5;28;01mtry\u001b[39;00m:\n\u001b[0;32m--> 652\u001b[0m     s \u001b[38;5;241m=\u001b[39m \u001b[43mBoltSocket\u001b[49m\u001b[38;5;241;43m.\u001b[39;49m\u001b[43m_connect\u001b[49m\u001b[43m(\u001b[49m\u001b[43mresolved_address\u001b[49m\u001b[43m,\u001b[49m\u001b[43m \u001b[49m\u001b[43mtimeout\u001b[49m\u001b[43m,\u001b[49m\u001b[43m \u001b[49m\u001b[43mkeep_alive\u001b[49m\u001b[43m)\u001b[49m\n\u001b[1;32m    653\u001b[0m     s \u001b[38;5;241m=\u001b[39m BoltSocket\u001b[38;5;241m.\u001b[39m_secure(s, resolved_address\u001b[38;5;241m.\u001b[39m_host_name,\n\u001b[1;32m    654\u001b[0m                            ssl_context)\n",
      "File \u001b[0;32m~/opt/anaconda3/lib/python3.9/site-packages/neo4j/_async_compat/network/_bolt_socket.py:525\u001b[0m, in \u001b[0;36mBoltSocket._connect\u001b[0;34m(cls, resolved_address, timeout, keep_alive)\u001b[0m\n\u001b[1;32m    524\u001b[0m \u001b[38;5;28;01mif\u001b[39;00m \u001b[38;5;28misinstance\u001b[39m(error, \u001b[38;5;167;01mOSError\u001b[39;00m):\n\u001b[0;32m--> 525\u001b[0m     \u001b[38;5;28;01mraise\u001b[39;00m ServiceUnavailable(\n\u001b[1;32m    526\u001b[0m         \u001b[38;5;124m\"\u001b[39m\u001b[38;5;124mFailed to establish connection to \u001b[39m\u001b[38;5;132;01m{!r}\u001b[39;00m\u001b[38;5;124m (reason \u001b[39m\u001b[38;5;132;01m{}\u001b[39;00m\u001b[38;5;124m)\u001b[39m\u001b[38;5;124m\"\u001b[39m\n\u001b[1;32m    527\u001b[0m         \u001b[38;5;241m.\u001b[39mformat(resolved_address, error)\n\u001b[1;32m    528\u001b[0m     ) \u001b[38;5;28;01mfrom\u001b[39;00m \u001b[38;5;21;01merror\u001b[39;00m\n\u001b[1;32m    529\u001b[0m \u001b[38;5;28;01mraise\u001b[39;00m\n",
      "\u001b[0;31mServiceUnavailable\u001b[0m: Failed to establish connection to ResolvedIPv6Address(('::1', 7687, 0, 0)) (reason [Errno 61] Connection refused)",
      "\nThe above exception was the direct cause of the following exception:\n",
      "\u001b[0;31mServiceUnavailable\u001b[0m                        Traceback (most recent call last)",
      "Input \u001b[0;32mIn [6]\u001b[0m, in \u001b[0;36m<cell line: 14>\u001b[0;34m()\u001b[0m\n\u001b[1;32m     13\u001b[0m \u001b[38;5;66;03m# Run the query using the driver\u001b[39;00m\n\u001b[1;32m     14\u001b[0m \u001b[38;5;28;01mwith\u001b[39;00m driver\u001b[38;5;241m.\u001b[39msession() \u001b[38;5;28;01mas\u001b[39;00m session:\n\u001b[0;32m---> 15\u001b[0m     \u001b[43msession\u001b[49m\u001b[38;5;241;43m.\u001b[39;49m\u001b[43mrun\u001b[49m\u001b[43m(\u001b[49m\u001b[43mquery\u001b[49m\u001b[43m,\u001b[49m\u001b[43m \u001b[49m\u001b[43mparams\u001b[49m\u001b[43m)\u001b[49m\n",
      "File \u001b[0;32m~/opt/anaconda3/lib/python3.9/site-packages/neo4j/_sync/work/session.py:280\u001b[0m, in \u001b[0;36mSession.run\u001b[0;34m(self, query, parameters, **kwargs)\u001b[0m\n\u001b[1;32m    277\u001b[0m     \u001b[38;5;28mself\u001b[39m\u001b[38;5;241m.\u001b[39m_auto_result\u001b[38;5;241m.\u001b[39m_buffer_all()\n\u001b[1;32m    279\u001b[0m \u001b[38;5;28;01mif\u001b[39;00m \u001b[38;5;129;01mnot\u001b[39;00m \u001b[38;5;28mself\u001b[39m\u001b[38;5;241m.\u001b[39m_connection:\n\u001b[0;32m--> 280\u001b[0m     \u001b[38;5;28;43mself\u001b[39;49m\u001b[38;5;241;43m.\u001b[39;49m\u001b[43m_connect\u001b[49m\u001b[43m(\u001b[49m\u001b[38;5;28;43mself\u001b[39;49m\u001b[38;5;241;43m.\u001b[39;49m\u001b[43m_config\u001b[49m\u001b[38;5;241;43m.\u001b[39;49m\u001b[43mdefault_access_mode\u001b[49m\u001b[43m)\u001b[49m\n\u001b[1;32m    281\u001b[0m cx \u001b[38;5;241m=\u001b[39m \u001b[38;5;28mself\u001b[39m\u001b[38;5;241m.\u001b[39m_connection\n\u001b[1;32m    283\u001b[0m \u001b[38;5;28mself\u001b[39m\u001b[38;5;241m.\u001b[39m_auto_result \u001b[38;5;241m=\u001b[39m Result(\n\u001b[1;32m    284\u001b[0m     cx, \u001b[38;5;28mself\u001b[39m\u001b[38;5;241m.\u001b[39m_config\u001b[38;5;241m.\u001b[39mfetch_size, \u001b[38;5;28mself\u001b[39m\u001b[38;5;241m.\u001b[39m_result_closed,\n\u001b[1;32m    285\u001b[0m     \u001b[38;5;28mself\u001b[39m\u001b[38;5;241m.\u001b[39m_result_error\n\u001b[1;32m    286\u001b[0m )\n",
      "File \u001b[0;32m~/opt/anaconda3/lib/python3.9/site-packages/neo4j/_sync/work/session.py:120\u001b[0m, in \u001b[0;36mSession._connect\u001b[0;34m(self, access_mode, **access_kwargs)\u001b[0m\n\u001b[1;32m    118\u001b[0m     access_mode \u001b[38;5;241m=\u001b[39m \u001b[38;5;28mself\u001b[39m\u001b[38;5;241m.\u001b[39m_config\u001b[38;5;241m.\u001b[39mdefault_access_mode\n\u001b[1;32m    119\u001b[0m \u001b[38;5;28;01mtry\u001b[39;00m:\n\u001b[0;32m--> 120\u001b[0m     \u001b[38;5;28;43msuper\u001b[39;49m\u001b[43m(\u001b[49m\u001b[43m)\u001b[49m\u001b[38;5;241;43m.\u001b[39;49m\u001b[43m_connect\u001b[49m\u001b[43m(\u001b[49m\u001b[43maccess_mode\u001b[49m\u001b[43m,\u001b[49m\u001b[43m \u001b[49m\u001b[38;5;241;43m*\u001b[39;49m\u001b[38;5;241;43m*\u001b[39;49m\u001b[43maccess_kwargs\u001b[49m\u001b[43m)\u001b[49m\n\u001b[1;32m    121\u001b[0m \u001b[38;5;28;01mexcept\u001b[39;00m asyncio\u001b[38;5;241m.\u001b[39mCancelledError:\n\u001b[1;32m    122\u001b[0m     \u001b[38;5;28mself\u001b[39m\u001b[38;5;241m.\u001b[39m_handle_cancellation(message\u001b[38;5;241m=\u001b[39m\u001b[38;5;124m\"\u001b[39m\u001b[38;5;124m_connect\u001b[39m\u001b[38;5;124m\"\u001b[39m)\n",
      "File \u001b[0;32m~/opt/anaconda3/lib/python3.9/site-packages/neo4j/_sync/work/workspace.py:168\u001b[0m, in \u001b[0;36mWorkspace._connect\u001b[0;34m(self, access_mode, **acquire_kwargs)\u001b[0m\n\u001b[1;32m    160\u001b[0m acquire_kwargs_ \u001b[38;5;241m=\u001b[39m {\n\u001b[1;32m    161\u001b[0m     \u001b[38;5;124m\"\u001b[39m\u001b[38;5;124maccess_mode\u001b[39m\u001b[38;5;124m\"\u001b[39m: access_mode,\n\u001b[1;32m    162\u001b[0m     \u001b[38;5;124m\"\u001b[39m\u001b[38;5;124mtimeout\u001b[39m\u001b[38;5;124m\"\u001b[39m: acquisition_timeout,\n\u001b[0;32m   (...)\u001b[0m\n\u001b[1;32m    165\u001b[0m     \u001b[38;5;124m\"\u001b[39m\u001b[38;5;124mliveness_check_timeout\u001b[39m\u001b[38;5;124m\"\u001b[39m: \u001b[38;5;28;01mNone\u001b[39;00m,\n\u001b[1;32m    166\u001b[0m }\n\u001b[1;32m    167\u001b[0m acquire_kwargs_\u001b[38;5;241m.\u001b[39mupdate(acquire_kwargs)\n\u001b[0;32m--> 168\u001b[0m \u001b[38;5;28mself\u001b[39m\u001b[38;5;241m.\u001b[39m_connection \u001b[38;5;241m=\u001b[39m \u001b[38;5;28;43mself\u001b[39;49m\u001b[38;5;241;43m.\u001b[39;49m\u001b[43m_pool\u001b[49m\u001b[38;5;241;43m.\u001b[39;49m\u001b[43macquire\u001b[49m\u001b[43m(\u001b[49m\u001b[38;5;241;43m*\u001b[39;49m\u001b[38;5;241;43m*\u001b[39;49m\u001b[43macquire_kwargs_\u001b[49m\u001b[43m)\u001b[49m\n\u001b[1;32m    169\u001b[0m \u001b[38;5;28mself\u001b[39m\u001b[38;5;241m.\u001b[39m_connection_access_mode \u001b[38;5;241m=\u001b[39m access_mode\n",
      "File \u001b[0;32m~/opt/anaconda3/lib/python3.9/site-packages/neo4j/_sync/io/_pool.py:411\u001b[0m, in \u001b[0;36mBoltPool.acquire\u001b[0;34m(self, access_mode, timeout, database, bookmarks, liveness_check_timeout)\u001b[0m\n\u001b[1;32m    408\u001b[0m log\u001b[38;5;241m.\u001b[39mdebug(\u001b[38;5;124m\"\u001b[39m\u001b[38;5;124m[#0000]  _: <POOL> acquire direct connection, \u001b[39m\u001b[38;5;124m\"\u001b[39m\n\u001b[1;32m    409\u001b[0m           \u001b[38;5;124m\"\u001b[39m\u001b[38;5;124maccess_mode=\u001b[39m\u001b[38;5;132;01m%r\u001b[39;00m\u001b[38;5;124m, database=\u001b[39m\u001b[38;5;132;01m%r\u001b[39;00m\u001b[38;5;124m\"\u001b[39m, access_mode, database)\n\u001b[1;32m    410\u001b[0m deadline \u001b[38;5;241m=\u001b[39m Deadline\u001b[38;5;241m.\u001b[39mfrom_timeout_or_deadline(timeout)\n\u001b[0;32m--> 411\u001b[0m \u001b[38;5;28;01mreturn\u001b[39;00m \u001b[38;5;28;43mself\u001b[39;49m\u001b[38;5;241;43m.\u001b[39;49m\u001b[43m_acquire\u001b[49m\u001b[43m(\u001b[49m\n\u001b[1;32m    412\u001b[0m \u001b[43m    \u001b[49m\u001b[38;5;28;43mself\u001b[39;49m\u001b[38;5;241;43m.\u001b[39;49m\u001b[43maddress\u001b[49m\u001b[43m,\u001b[49m\u001b[43m \u001b[49m\u001b[43mdeadline\u001b[49m\u001b[43m,\u001b[49m\u001b[43m \u001b[49m\u001b[43mliveness_check_timeout\u001b[49m\n\u001b[1;32m    413\u001b[0m \u001b[43m\u001b[49m\u001b[43m)\u001b[49m\n",
      "File \u001b[0;32m~/opt/anaconda3/lib/python3.9/site-packages/neo4j/_sync/io/_pool.py:221\u001b[0m, in \u001b[0;36mIOPool._acquire\u001b[0;34m(self, address, deadline, liveness_check_timeout)\u001b[0m\n\u001b[1;32m    216\u001b[0m             \u001b[38;5;28;01mraise\u001b[39;00m ClientError(\n\u001b[1;32m    217\u001b[0m                 \u001b[38;5;124m\"\u001b[39m\u001b[38;5;124mfailed to obtain a connection from the pool within \u001b[39m\u001b[38;5;124m\"\u001b[39m\n\u001b[1;32m    218\u001b[0m                 \u001b[38;5;124m\"\u001b[39m\u001b[38;5;132;01m{!r}\u001b[39;00m\u001b[38;5;124ms (timeout)\u001b[39m\u001b[38;5;124m\"\u001b[39m\u001b[38;5;241m.\u001b[39mformat(deadline\u001b[38;5;241m.\u001b[39moriginal_timeout)\n\u001b[1;32m    219\u001b[0m             )\n\u001b[1;32m    220\u001b[0m log\u001b[38;5;241m.\u001b[39mdebug(\u001b[38;5;124m\"\u001b[39m\u001b[38;5;124m[#0000]  _: <POOL> trying to hand out new connection\u001b[39m\u001b[38;5;124m\"\u001b[39m)\n\u001b[0;32m--> 221\u001b[0m \u001b[38;5;28;01mreturn\u001b[39;00m \u001b[43mconnection_creator\u001b[49m\u001b[43m(\u001b[49m\u001b[43m)\u001b[49m\n",
      "File \u001b[0;32m~/opt/anaconda3/lib/python3.9/site-packages/neo4j/_sync/io/_pool.py:138\u001b[0m, in \u001b[0;36mIOPool._acquire_new_later.<locals>.connection_creator\u001b[0;34m()\u001b[0m\n\u001b[1;32m    136\u001b[0m \u001b[38;5;28;01mtry\u001b[39;00m:\n\u001b[1;32m    137\u001b[0m     \u001b[38;5;28;01mtry\u001b[39;00m:\n\u001b[0;32m--> 138\u001b[0m         connection \u001b[38;5;241m=\u001b[39m \u001b[38;5;28;43mself\u001b[39;49m\u001b[38;5;241;43m.\u001b[39;49m\u001b[43mopener\u001b[49m\u001b[43m(\u001b[49m\n\u001b[1;32m    139\u001b[0m \u001b[43m            \u001b[49m\u001b[43maddress\u001b[49m\u001b[43m,\u001b[49m\u001b[43m \u001b[49m\u001b[43mdeadline\u001b[49m\u001b[38;5;241;43m.\u001b[39;49m\u001b[43mto_timeout\u001b[49m\u001b[43m(\u001b[49m\u001b[43m)\u001b[49m\n\u001b[1;32m    140\u001b[0m \u001b[43m        \u001b[49m\u001b[43m)\u001b[49m\n\u001b[1;32m    141\u001b[0m     \u001b[38;5;28;01mexcept\u001b[39;00m ServiceUnavailable:\n\u001b[1;32m    142\u001b[0m         \u001b[38;5;28mself\u001b[39m\u001b[38;5;241m.\u001b[39mdeactivate(address)\n",
      "File \u001b[0;32m~/opt/anaconda3/lib/python3.9/site-packages/neo4j/_sync/io/_pool.py:386\u001b[0m, in \u001b[0;36mBoltPool.open.<locals>.opener\u001b[0;34m(addr, timeout)\u001b[0m\n\u001b[1;32m    385\u001b[0m \u001b[38;5;28;01mdef\u001b[39;00m \u001b[38;5;21mopener\u001b[39m(addr, timeout):\n\u001b[0;32m--> 386\u001b[0m     \u001b[38;5;28;01mreturn\u001b[39;00m \u001b[43mBolt\u001b[49m\u001b[38;5;241;43m.\u001b[39;49m\u001b[43mopen\u001b[49m\u001b[43m(\u001b[49m\n\u001b[1;32m    387\u001b[0m \u001b[43m        \u001b[49m\u001b[43maddr\u001b[49m\u001b[43m,\u001b[49m\u001b[43m \u001b[49m\u001b[43mauth\u001b[49m\u001b[38;5;241;43m=\u001b[39;49m\u001b[43mauth\u001b[49m\u001b[43m,\u001b[49m\u001b[43m \u001b[49m\u001b[43mtimeout\u001b[49m\u001b[38;5;241;43m=\u001b[39;49m\u001b[43mtimeout\u001b[49m\u001b[43m,\u001b[49m\u001b[43m \u001b[49m\u001b[43mrouting_context\u001b[49m\u001b[38;5;241;43m=\u001b[39;49m\u001b[38;5;28;43;01mNone\u001b[39;49;00m\u001b[43m,\u001b[49m\n\u001b[1;32m    388\u001b[0m \u001b[43m        \u001b[49m\u001b[43mpool_config\u001b[49m\u001b[38;5;241;43m=\u001b[39;49m\u001b[43mpool_config\u001b[49m\n\u001b[1;32m    389\u001b[0m \u001b[43m    \u001b[49m\u001b[43m)\u001b[49m\n",
      "File \u001b[0;32m~/opt/anaconda3/lib/python3.9/site-packages/neo4j/_sync/io/_bolt.py:322\u001b[0m, in \u001b[0;36mBolt.open\u001b[0;34m(cls, address, auth, timeout, routing_context, pool_config)\u001b[0m\n\u001b[1;32m    318\u001b[0m \u001b[38;5;28;01melif\u001b[39;00m timeout \u001b[38;5;129;01mis\u001b[39;00m \u001b[38;5;129;01mnot\u001b[39;00m \u001b[38;5;28;01mNone\u001b[39;00m:\n\u001b[1;32m    319\u001b[0m     socket_connection_timeout \u001b[38;5;241m=\u001b[39m \u001b[38;5;28mmin\u001b[39m(pool_config\u001b[38;5;241m.\u001b[39mconnection_timeout,\n\u001b[1;32m    320\u001b[0m                                     time_remaining())\n\u001b[1;32m    321\u001b[0m s, pool_config\u001b[38;5;241m.\u001b[39mprotocol_version, handshake, data \u001b[38;5;241m=\u001b[39m \\\n\u001b[0;32m--> 322\u001b[0m     \u001b[43mBoltSocket\u001b[49m\u001b[38;5;241;43m.\u001b[39;49m\u001b[43mconnect\u001b[49m\u001b[43m(\u001b[49m\n\u001b[1;32m    323\u001b[0m \u001b[43m        \u001b[49m\u001b[43maddress\u001b[49m\u001b[43m,\u001b[49m\n\u001b[1;32m    324\u001b[0m \u001b[43m        \u001b[49m\u001b[43mtimeout\u001b[49m\u001b[38;5;241;43m=\u001b[39;49m\u001b[43msocket_connection_timeout\u001b[49m\u001b[43m,\u001b[49m\n\u001b[1;32m    325\u001b[0m \u001b[43m        \u001b[49m\u001b[43mcustom_resolver\u001b[49m\u001b[38;5;241;43m=\u001b[39;49m\u001b[43mpool_config\u001b[49m\u001b[38;5;241;43m.\u001b[39;49m\u001b[43mresolver\u001b[49m\u001b[43m,\u001b[49m\n\u001b[1;32m    326\u001b[0m \u001b[43m        \u001b[49m\u001b[43mssl_context\u001b[49m\u001b[38;5;241;43m=\u001b[39;49m\u001b[43mpool_config\u001b[49m\u001b[38;5;241;43m.\u001b[39;49m\u001b[43mget_ssl_context\u001b[49m\u001b[43m(\u001b[49m\u001b[43m)\u001b[49m\u001b[43m,\u001b[49m\n\u001b[1;32m    327\u001b[0m \u001b[43m        \u001b[49m\u001b[43mkeep_alive\u001b[49m\u001b[38;5;241;43m=\u001b[39;49m\u001b[43mpool_config\u001b[49m\u001b[38;5;241;43m.\u001b[39;49m\u001b[43mkeep_alive\u001b[49m\u001b[43m,\u001b[49m\n\u001b[1;32m    328\u001b[0m \u001b[43m    \u001b[49m\u001b[43m)\u001b[49m\n\u001b[1;32m    330\u001b[0m \u001b[38;5;66;03m# Carry out Bolt subclass imports locally to avoid circular dependency\u001b[39;00m\n\u001b[1;32m    331\u001b[0m \u001b[38;5;66;03m# issues.\u001b[39;00m\n\u001b[1;32m    332\u001b[0m \u001b[38;5;28;01mif\u001b[39;00m pool_config\u001b[38;5;241m.\u001b[39mprotocol_version \u001b[38;5;241m==\u001b[39m (\u001b[38;5;241m3\u001b[39m, \u001b[38;5;241m0\u001b[39m):\n",
      "File \u001b[0;32m~/opt/anaconda3/lib/python3.9/site-packages/neo4j/_async_compat/network/_bolt_socket.py:679\u001b[0m, in \u001b[0;36mBoltSocket.connect\u001b[0;34m(cls, address, timeout, custom_resolver, ssl_context, keep_alive)\u001b[0m\n\u001b[1;32m    674\u001b[0m     \u001b[38;5;28;01mraise\u001b[39;00m ServiceUnavailable(\n\u001b[1;32m    675\u001b[0m         \u001b[38;5;124m\"\u001b[39m\u001b[38;5;124mCouldn\u001b[39m\u001b[38;5;124m'\u001b[39m\u001b[38;5;124mt connect to \u001b[39m\u001b[38;5;132;01m%s\u001b[39;00m\u001b[38;5;124m (resolved to \u001b[39m\u001b[38;5;132;01m%s\u001b[39;00m\u001b[38;5;124m)\u001b[39m\u001b[38;5;124m\"\u001b[39m \u001b[38;5;241m%\u001b[39m (\n\u001b[1;32m    676\u001b[0m             \u001b[38;5;28mstr\u001b[39m(address), \u001b[38;5;28mtuple\u001b[39m(\u001b[38;5;28mmap\u001b[39m(\u001b[38;5;28mstr\u001b[39m, resolved_addresses)))\n\u001b[1;32m    677\u001b[0m     )\n\u001b[1;32m    678\u001b[0m \u001b[38;5;28;01melse\u001b[39;00m:\n\u001b[0;32m--> 679\u001b[0m     \u001b[38;5;28;01mraise\u001b[39;00m ServiceUnavailable(\n\u001b[1;32m    680\u001b[0m         \u001b[38;5;124m\"\u001b[39m\u001b[38;5;124mCouldn\u001b[39m\u001b[38;5;124m'\u001b[39m\u001b[38;5;124mt connect to \u001b[39m\u001b[38;5;132;01m%s\u001b[39;00m\u001b[38;5;124m (resolved to \u001b[39m\u001b[38;5;132;01m%s\u001b[39;00m\u001b[38;5;124m):\u001b[39m\u001b[38;5;130;01m\\n\u001b[39;00m\u001b[38;5;132;01m%s\u001b[39;00m\u001b[38;5;124m\"\u001b[39m \u001b[38;5;241m%\u001b[39m (\n\u001b[1;32m    681\u001b[0m             \u001b[38;5;28mstr\u001b[39m(address), \u001b[38;5;28mtuple\u001b[39m(\u001b[38;5;28mmap\u001b[39m(\u001b[38;5;28mstr\u001b[39m, resolved_addresses)),\n\u001b[1;32m    682\u001b[0m             \u001b[38;5;124m\"\u001b[39m\u001b[38;5;130;01m\\n\u001b[39;00m\u001b[38;5;124m\"\u001b[39m\u001b[38;5;241m.\u001b[39mjoin(\u001b[38;5;28mmap\u001b[39m(\u001b[38;5;28mstr\u001b[39m, errors))\n\u001b[1;32m    683\u001b[0m         )\n\u001b[1;32m    684\u001b[0m     ) \u001b[38;5;28;01mfrom\u001b[39;00m \u001b[38;5;21;01merrors\u001b[39;00m[\u001b[38;5;241m0\u001b[39m]\n",
      "\u001b[0;31mServiceUnavailable\u001b[0m: Couldn't connect to localhost:7687 (resolved to ()):\nFailed to establish connection to ResolvedIPv6Address(('::1', 7687, 0, 0)) (reason [Errno 61] Connection refused)\nFailed to establish connection to ResolvedIPv4Address(('127.0.0.1', 7687)) (reason [Errno 61] Connection refused)"
     ]
    }
   ],
   "source": [
    "# Define the query to create the nodes and edges\n",
    "query = \"\"\"\n",
    "UNWIND $rows AS row\n",
    "MATCH (s1:Song {name: row.track1_name})\n",
    "MATCH (s2:Song {name: row.track2_name})\n",
    "WHERE row.similarity_score > 0.80\n",
    "MERGE (s1)-[s:SIMILAR_TO {score: row.similarity_score}]->(s2)\n",
    "\"\"\"\n",
    "\n",
    "# Define the parameters for the query\n",
    "params = {\"rows\": df_final[df_final[\"similarity_score\"] > 0.80].to_dict(\"records\")}\n",
    "\n",
    "# Run the query using the driver\n",
    "with driver.session() as session:\n",
    "    session.run(query, params)"
   ]
  },
  {
   "cell_type": "code",
   "execution_count": null,
   "id": "725260bc",
   "metadata": {},
   "outputs": [],
   "source": [
    "with driver.session() as session:\n",
    "    query = \"\"\"\n",
    "    MATCH (s1:Song)-[r:SIMILAR_TO]->(s2:Song)\n",
    "    WHERE s1.name <> 'The Call' AND s1.name <> 'Two Birds' AND s1.name <> 'Samson'\n",
    "    AND s2.name IN ['The Call', 'Two Birds', 'Samson']\n",
    "    AND r.similarity_score IS NOT NULL AND toFloat(r.similarity_score) > 0.8\n",
    "    RETURN DISTINCT s2.name AS song_name, r.similarity_score AS similarity_score\n",
    "    ORDER BY similarity_score DESC\n",
    "    LIMIT 5\n",
    "    \"\"\"\n",
    "    result = session.run(query)\n",
    "\n",
    "    # Print the recommended songs\n",
    "    print(\"Song Recommendations:\")\n",
    "    for record in result:\n",
    "        print(f\"{record['song_name']} (Similarity Score: {record['similarity_score']})\")"
   ]
  },
  {
   "cell_type": "code",
   "execution_count": null,
   "id": "4455ceb9",
   "metadata": {},
   "outputs": [],
   "source": [
    "query = \"\"\"\n",
    "MATCH (n:Song)\n",
    "RETURN n\n",
    "\"\"\"\n",
    "\n",
    "# Execute the query and convert the results to a Pandas DataFrame\n",
    "with driver.session() as session:\n",
    "    results = session.run(query)\n",
    "df = pd.DataFrame([r.values() for r in results], columns=results.keys())\n",
    "\n",
    "# Display the DataFrame in the notebook\n",
    "display(df)"
   ]
  },
  {
   "cell_type": "code",
   "execution_count": null,
   "id": "d5608329",
   "metadata": {},
   "outputs": [],
   "source": []
  },
  {
   "cell_type": "code",
   "execution_count": null,
   "id": "13084c5e",
   "metadata": {},
   "outputs": [],
   "source": []
  },
  {
   "cell_type": "code",
   "execution_count": null,
   "id": "48027535",
   "metadata": {},
   "outputs": [],
   "source": []
  },
  {
   "cell_type": "code",
   "execution_count": null,
   "id": "c46d74ce",
   "metadata": {},
   "outputs": [],
   "source": []
  }
 ],
 "metadata": {
  "kernelspec": {
   "display_name": "Python 3 (ipykernel)",
   "language": "python",
   "name": "python3"
  },
  "language_info": {
   "codemirror_mode": {
    "name": "ipython",
    "version": 3
   },
   "file_extension": ".py",
   "mimetype": "text/x-python",
   "name": "python",
   "nbconvert_exporter": "python",
   "pygments_lexer": "ipython3",
   "version": "3.9.12"
  }
 },
 "nbformat": 4,
 "nbformat_minor": 5
}
